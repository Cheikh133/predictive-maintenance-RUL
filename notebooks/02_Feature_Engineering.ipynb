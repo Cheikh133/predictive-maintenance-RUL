{
 "cells": [
  {
   "cell_type": "markdown",
   "id": "27562e82-b2c6-4465-bb18-908697766ab5",
   "metadata": {
    "editable": true,
    "slideshow": {
     "slide_type": ""
    },
    "tags": []
   },
   "source": [
    "# 02 – Feature Engineering\n",
    "\n",
    "Create relevant features to improve RUL prediction.\n",
    "\n",
    "Input:  \n",
    "- `train_processed.csv` and `test_processed.csv` from `data/processed/`\n",
    "\n",
    "Output:  \n",
    "- Final datasets with engineered features for modeling"
   ]
  },
  {
   "cell_type": "code",
   "execution_count": 1,
   "id": "f9fd41bc-b04c-47f8-acb0-8b7d4fee6bcb",
   "metadata": {},
   "outputs": [],
   "source": [
    "# Importing required libraries\n",
    "\n",
    "import pandas as pd\n",
    "import numpy as np\n",
    "import matplotlib.pyplot as plt\n",
    "import seaborn as sns\n",
    "from sklearn.preprocessing import StandardScaler"
   ]
  },
  {
   "cell_type": "code",
   "execution_count": 2,
   "id": "ad1e15e6-2304-461f-ab3d-e98e5f931c86",
   "metadata": {},
   "outputs": [],
   "source": [
    "# Load cleaned datasets from the processed folder\n",
    "train_df = pd.read_csv(\"../data/processed/train_processed.csv\")\n",
    "test_df = pd.read_csv(\"../data/processed/test_processed.csv\")"
   ]
  },
  {
   "cell_type": "markdown",
   "id": "8fa8a41f-4c03-4f19-8c48-7c3c493ebc03",
   "metadata": {},
   "source": [
    "## Check dataset shapes"
   ]
  },
  {
   "cell_type": "code",
   "execution_count": 3,
   "id": "1a51fab6-49d6-4461-963b-c2dfaf8ca2ca",
   "metadata": {},
   "outputs": [
    {
     "name": "stdout",
     "output_type": "stream",
     "text": [
      "Train shape: (20631, 20)\n",
      "Test shape: (100, 20)\n"
     ]
    }
   ],
   "source": [
    "# Check the shape of loaded datasets\n",
    "print(\"Train shape:\", train_df.shape)\n",
    "print(\"Test shape:\", test_df.shape)"
   ]
  },
  {
   "cell_type": "markdown",
   "id": "c00db8db-d92c-4fe0-97e8-b5f56d4bc9aa",
   "metadata": {},
   "source": [
    "## Quick look at the processed datasets"
   ]
  },
  {
   "cell_type": "code",
   "execution_count": 4,
   "id": "f0b89281-1bb8-460e-a13f-bd127198f42d",
   "metadata": {
    "scrolled": true
   },
   "outputs": [
    {
     "data": {
      "text/html": [
       "<div>\n",
       "<style scoped>\n",
       "    .dataframe tbody tr th:only-of-type {\n",
       "        vertical-align: middle;\n",
       "    }\n",
       "\n",
       "    .dataframe tbody tr th {\n",
       "        vertical-align: top;\n",
       "    }\n",
       "\n",
       "    .dataframe thead th {\n",
       "        text-align: right;\n",
       "    }\n",
       "</style>\n",
       "<table border=\"1\" class=\"dataframe\">\n",
       "  <thead>\n",
       "    <tr style=\"text-align: right;\">\n",
       "      <th></th>\n",
       "      <th>unit_number</th>\n",
       "      <th>time_in_cycles</th>\n",
       "      <th>operational_setting_1</th>\n",
       "      <th>operational_setting_2</th>\n",
       "      <th>sensor_measurement_2</th>\n",
       "      <th>sensor_measurement_3</th>\n",
       "      <th>sensor_measurement_4</th>\n",
       "      <th>sensor_measurement_6</th>\n",
       "      <th>sensor_measurement_7</th>\n",
       "      <th>sensor_measurement_8</th>\n",
       "      <th>sensor_measurement_9</th>\n",
       "      <th>sensor_measurement_11</th>\n",
       "      <th>sensor_measurement_12</th>\n",
       "      <th>sensor_measurement_13</th>\n",
       "      <th>sensor_measurement_14</th>\n",
       "      <th>sensor_measurement_15</th>\n",
       "      <th>sensor_measurement_17</th>\n",
       "      <th>sensor_measurement_20</th>\n",
       "      <th>sensor_measurement_21</th>\n",
       "      <th>RUL</th>\n",
       "    </tr>\n",
       "  </thead>\n",
       "  <tbody>\n",
       "    <tr>\n",
       "      <th>0</th>\n",
       "      <td>1</td>\n",
       "      <td>1</td>\n",
       "      <td>-0.0007</td>\n",
       "      <td>-0.0004</td>\n",
       "      <td>641.82</td>\n",
       "      <td>1589.70</td>\n",
       "      <td>1400.60</td>\n",
       "      <td>21.61</td>\n",
       "      <td>554.36</td>\n",
       "      <td>2388.06</td>\n",
       "      <td>9046.19</td>\n",
       "      <td>47.47</td>\n",
       "      <td>521.66</td>\n",
       "      <td>2388.02</td>\n",
       "      <td>8138.62</td>\n",
       "      <td>8.4195</td>\n",
       "      <td>392</td>\n",
       "      <td>39.06</td>\n",
       "      <td>23.4190</td>\n",
       "      <td>191</td>\n",
       "    </tr>\n",
       "    <tr>\n",
       "      <th>1</th>\n",
       "      <td>1</td>\n",
       "      <td>2</td>\n",
       "      <td>0.0019</td>\n",
       "      <td>-0.0003</td>\n",
       "      <td>642.15</td>\n",
       "      <td>1591.82</td>\n",
       "      <td>1403.14</td>\n",
       "      <td>21.61</td>\n",
       "      <td>553.75</td>\n",
       "      <td>2388.04</td>\n",
       "      <td>9044.07</td>\n",
       "      <td>47.49</td>\n",
       "      <td>522.28</td>\n",
       "      <td>2388.07</td>\n",
       "      <td>8131.49</td>\n",
       "      <td>8.4318</td>\n",
       "      <td>392</td>\n",
       "      <td>39.00</td>\n",
       "      <td>23.4236</td>\n",
       "      <td>190</td>\n",
       "    </tr>\n",
       "    <tr>\n",
       "      <th>2</th>\n",
       "      <td>1</td>\n",
       "      <td>3</td>\n",
       "      <td>-0.0043</td>\n",
       "      <td>0.0003</td>\n",
       "      <td>642.35</td>\n",
       "      <td>1587.99</td>\n",
       "      <td>1404.20</td>\n",
       "      <td>21.61</td>\n",
       "      <td>554.26</td>\n",
       "      <td>2388.08</td>\n",
       "      <td>9052.94</td>\n",
       "      <td>47.27</td>\n",
       "      <td>522.42</td>\n",
       "      <td>2388.03</td>\n",
       "      <td>8133.23</td>\n",
       "      <td>8.4178</td>\n",
       "      <td>390</td>\n",
       "      <td>38.95</td>\n",
       "      <td>23.3442</td>\n",
       "      <td>189</td>\n",
       "    </tr>\n",
       "    <tr>\n",
       "      <th>3</th>\n",
       "      <td>1</td>\n",
       "      <td>4</td>\n",
       "      <td>0.0007</td>\n",
       "      <td>0.0000</td>\n",
       "      <td>642.35</td>\n",
       "      <td>1582.79</td>\n",
       "      <td>1401.87</td>\n",
       "      <td>21.61</td>\n",
       "      <td>554.45</td>\n",
       "      <td>2388.11</td>\n",
       "      <td>9049.48</td>\n",
       "      <td>47.13</td>\n",
       "      <td>522.86</td>\n",
       "      <td>2388.08</td>\n",
       "      <td>8133.83</td>\n",
       "      <td>8.3682</td>\n",
       "      <td>392</td>\n",
       "      <td>38.88</td>\n",
       "      <td>23.3739</td>\n",
       "      <td>188</td>\n",
       "    </tr>\n",
       "    <tr>\n",
       "      <th>4</th>\n",
       "      <td>1</td>\n",
       "      <td>5</td>\n",
       "      <td>-0.0019</td>\n",
       "      <td>-0.0002</td>\n",
       "      <td>642.37</td>\n",
       "      <td>1582.85</td>\n",
       "      <td>1406.22</td>\n",
       "      <td>21.61</td>\n",
       "      <td>554.00</td>\n",
       "      <td>2388.06</td>\n",
       "      <td>9055.15</td>\n",
       "      <td>47.28</td>\n",
       "      <td>522.19</td>\n",
       "      <td>2388.04</td>\n",
       "      <td>8133.80</td>\n",
       "      <td>8.4294</td>\n",
       "      <td>393</td>\n",
       "      <td>38.90</td>\n",
       "      <td>23.4044</td>\n",
       "      <td>187</td>\n",
       "    </tr>\n",
       "  </tbody>\n",
       "</table>\n",
       "</div>"
      ],
      "text/plain": [
       "   unit_number  time_in_cycles  operational_setting_1  operational_setting_2  \\\n",
       "0            1               1                -0.0007                -0.0004   \n",
       "1            1               2                 0.0019                -0.0003   \n",
       "2            1               3                -0.0043                 0.0003   \n",
       "3            1               4                 0.0007                 0.0000   \n",
       "4            1               5                -0.0019                -0.0002   \n",
       "\n",
       "   sensor_measurement_2  sensor_measurement_3  sensor_measurement_4  \\\n",
       "0                641.82               1589.70               1400.60   \n",
       "1                642.15               1591.82               1403.14   \n",
       "2                642.35               1587.99               1404.20   \n",
       "3                642.35               1582.79               1401.87   \n",
       "4                642.37               1582.85               1406.22   \n",
       "\n",
       "   sensor_measurement_6  sensor_measurement_7  sensor_measurement_8  \\\n",
       "0                 21.61                554.36               2388.06   \n",
       "1                 21.61                553.75               2388.04   \n",
       "2                 21.61                554.26               2388.08   \n",
       "3                 21.61                554.45               2388.11   \n",
       "4                 21.61                554.00               2388.06   \n",
       "\n",
       "   sensor_measurement_9  sensor_measurement_11  sensor_measurement_12  \\\n",
       "0               9046.19                  47.47                 521.66   \n",
       "1               9044.07                  47.49                 522.28   \n",
       "2               9052.94                  47.27                 522.42   \n",
       "3               9049.48                  47.13                 522.86   \n",
       "4               9055.15                  47.28                 522.19   \n",
       "\n",
       "   sensor_measurement_13  sensor_measurement_14  sensor_measurement_15  \\\n",
       "0                2388.02                8138.62                 8.4195   \n",
       "1                2388.07                8131.49                 8.4318   \n",
       "2                2388.03                8133.23                 8.4178   \n",
       "3                2388.08                8133.83                 8.3682   \n",
       "4                2388.04                8133.80                 8.4294   \n",
       "\n",
       "   sensor_measurement_17  sensor_measurement_20  sensor_measurement_21  RUL  \n",
       "0                    392                  39.06                23.4190  191  \n",
       "1                    392                  39.00                23.4236  190  \n",
       "2                    390                  38.95                23.3442  189  \n",
       "3                    392                  38.88                23.3739  188  \n",
       "4                    393                  38.90                23.4044  187  "
      ]
     },
     "execution_count": 4,
     "metadata": {},
     "output_type": "execute_result"
    }
   ],
   "source": [
    "# Display first rows from the training datasets\n",
    "train_df.head()"
   ]
  },
  {
   "cell_type": "code",
   "execution_count": 5,
   "id": "14f2d824-cf2a-472b-84dc-df02c824abf2",
   "metadata": {
    "scrolled": true
   },
   "outputs": [
    {
     "data": {
      "text/html": [
       "<div>\n",
       "<style scoped>\n",
       "    .dataframe tbody tr th:only-of-type {\n",
       "        vertical-align: middle;\n",
       "    }\n",
       "\n",
       "    .dataframe tbody tr th {\n",
       "        vertical-align: top;\n",
       "    }\n",
       "\n",
       "    .dataframe thead th {\n",
       "        text-align: right;\n",
       "    }\n",
       "</style>\n",
       "<table border=\"1\" class=\"dataframe\">\n",
       "  <thead>\n",
       "    <tr style=\"text-align: right;\">\n",
       "      <th></th>\n",
       "      <th>unit_number</th>\n",
       "      <th>time_in_cycles</th>\n",
       "      <th>operational_setting_1</th>\n",
       "      <th>operational_setting_2</th>\n",
       "      <th>sensor_measurement_2</th>\n",
       "      <th>sensor_measurement_3</th>\n",
       "      <th>sensor_measurement_4</th>\n",
       "      <th>sensor_measurement_6</th>\n",
       "      <th>sensor_measurement_7</th>\n",
       "      <th>sensor_measurement_8</th>\n",
       "      <th>sensor_measurement_9</th>\n",
       "      <th>sensor_measurement_11</th>\n",
       "      <th>sensor_measurement_12</th>\n",
       "      <th>sensor_measurement_13</th>\n",
       "      <th>sensor_measurement_14</th>\n",
       "      <th>sensor_measurement_15</th>\n",
       "      <th>sensor_measurement_17</th>\n",
       "      <th>sensor_measurement_20</th>\n",
       "      <th>sensor_measurement_21</th>\n",
       "      <th>true_RUL</th>\n",
       "    </tr>\n",
       "  </thead>\n",
       "  <tbody>\n",
       "    <tr>\n",
       "      <th>0</th>\n",
       "      <td>1</td>\n",
       "      <td>31</td>\n",
       "      <td>-0.0006</td>\n",
       "      <td>0.0004</td>\n",
       "      <td>642.58</td>\n",
       "      <td>1581.22</td>\n",
       "      <td>1398.91</td>\n",
       "      <td>21.61</td>\n",
       "      <td>554.42</td>\n",
       "      <td>2388.08</td>\n",
       "      <td>9056.40</td>\n",
       "      <td>47.23</td>\n",
       "      <td>521.79</td>\n",
       "      <td>2388.06</td>\n",
       "      <td>8130.11</td>\n",
       "      <td>8.4024</td>\n",
       "      <td>393</td>\n",
       "      <td>38.81</td>\n",
       "      <td>23.3552</td>\n",
       "      <td>112</td>\n",
       "    </tr>\n",
       "    <tr>\n",
       "      <th>1</th>\n",
       "      <td>2</td>\n",
       "      <td>49</td>\n",
       "      <td>0.0018</td>\n",
       "      <td>-0.0001</td>\n",
       "      <td>642.55</td>\n",
       "      <td>1586.59</td>\n",
       "      <td>1410.83</td>\n",
       "      <td>21.61</td>\n",
       "      <td>553.52</td>\n",
       "      <td>2388.10</td>\n",
       "      <td>9044.77</td>\n",
       "      <td>47.67</td>\n",
       "      <td>521.74</td>\n",
       "      <td>2388.09</td>\n",
       "      <td>8126.90</td>\n",
       "      <td>8.4505</td>\n",
       "      <td>391</td>\n",
       "      <td>38.81</td>\n",
       "      <td>23.2618</td>\n",
       "      <td>98</td>\n",
       "    </tr>\n",
       "    <tr>\n",
       "      <th>2</th>\n",
       "      <td>3</td>\n",
       "      <td>126</td>\n",
       "      <td>-0.0016</td>\n",
       "      <td>0.0004</td>\n",
       "      <td>642.88</td>\n",
       "      <td>1589.75</td>\n",
       "      <td>1418.89</td>\n",
       "      <td>21.61</td>\n",
       "      <td>552.59</td>\n",
       "      <td>2388.16</td>\n",
       "      <td>9049.26</td>\n",
       "      <td>47.88</td>\n",
       "      <td>520.83</td>\n",
       "      <td>2388.14</td>\n",
       "      <td>8131.46</td>\n",
       "      <td>8.4119</td>\n",
       "      <td>395</td>\n",
       "      <td>38.93</td>\n",
       "      <td>23.2740</td>\n",
       "      <td>69</td>\n",
       "    </tr>\n",
       "    <tr>\n",
       "      <th>3</th>\n",
       "      <td>4</td>\n",
       "      <td>106</td>\n",
       "      <td>0.0012</td>\n",
       "      <td>0.0004</td>\n",
       "      <td>642.78</td>\n",
       "      <td>1594.53</td>\n",
       "      <td>1406.88</td>\n",
       "      <td>21.61</td>\n",
       "      <td>552.64</td>\n",
       "      <td>2388.13</td>\n",
       "      <td>9051.30</td>\n",
       "      <td>47.65</td>\n",
       "      <td>521.88</td>\n",
       "      <td>2388.11</td>\n",
       "      <td>8133.64</td>\n",
       "      <td>8.4634</td>\n",
       "      <td>395</td>\n",
       "      <td>38.58</td>\n",
       "      <td>23.2581</td>\n",
       "      <td>82</td>\n",
       "    </tr>\n",
       "    <tr>\n",
       "      <th>4</th>\n",
       "      <td>5</td>\n",
       "      <td>98</td>\n",
       "      <td>-0.0013</td>\n",
       "      <td>-0.0004</td>\n",
       "      <td>642.27</td>\n",
       "      <td>1589.94</td>\n",
       "      <td>1419.36</td>\n",
       "      <td>21.61</td>\n",
       "      <td>553.29</td>\n",
       "      <td>2388.10</td>\n",
       "      <td>9053.99</td>\n",
       "      <td>47.46</td>\n",
       "      <td>521.00</td>\n",
       "      <td>2388.15</td>\n",
       "      <td>8125.74</td>\n",
       "      <td>8.4362</td>\n",
       "      <td>394</td>\n",
       "      <td>38.75</td>\n",
       "      <td>23.4117</td>\n",
       "      <td>91</td>\n",
       "    </tr>\n",
       "  </tbody>\n",
       "</table>\n",
       "</div>"
      ],
      "text/plain": [
       "   unit_number  time_in_cycles  operational_setting_1  operational_setting_2  \\\n",
       "0            1              31                -0.0006                 0.0004   \n",
       "1            2              49                 0.0018                -0.0001   \n",
       "2            3             126                -0.0016                 0.0004   \n",
       "3            4             106                 0.0012                 0.0004   \n",
       "4            5              98                -0.0013                -0.0004   \n",
       "\n",
       "   sensor_measurement_2  sensor_measurement_3  sensor_measurement_4  \\\n",
       "0                642.58               1581.22               1398.91   \n",
       "1                642.55               1586.59               1410.83   \n",
       "2                642.88               1589.75               1418.89   \n",
       "3                642.78               1594.53               1406.88   \n",
       "4                642.27               1589.94               1419.36   \n",
       "\n",
       "   sensor_measurement_6  sensor_measurement_7  sensor_measurement_8  \\\n",
       "0                 21.61                554.42               2388.08   \n",
       "1                 21.61                553.52               2388.10   \n",
       "2                 21.61                552.59               2388.16   \n",
       "3                 21.61                552.64               2388.13   \n",
       "4                 21.61                553.29               2388.10   \n",
       "\n",
       "   sensor_measurement_9  sensor_measurement_11  sensor_measurement_12  \\\n",
       "0               9056.40                  47.23                 521.79   \n",
       "1               9044.77                  47.67                 521.74   \n",
       "2               9049.26                  47.88                 520.83   \n",
       "3               9051.30                  47.65                 521.88   \n",
       "4               9053.99                  47.46                 521.00   \n",
       "\n",
       "   sensor_measurement_13  sensor_measurement_14  sensor_measurement_15  \\\n",
       "0                2388.06                8130.11                 8.4024   \n",
       "1                2388.09                8126.90                 8.4505   \n",
       "2                2388.14                8131.46                 8.4119   \n",
       "3                2388.11                8133.64                 8.4634   \n",
       "4                2388.15                8125.74                 8.4362   \n",
       "\n",
       "   sensor_measurement_17  sensor_measurement_20  sensor_measurement_21  \\\n",
       "0                    393                  38.81                23.3552   \n",
       "1                    391                  38.81                23.2618   \n",
       "2                    395                  38.93                23.2740   \n",
       "3                    395                  38.58                23.2581   \n",
       "4                    394                  38.75                23.4117   \n",
       "\n",
       "   true_RUL  \n",
       "0       112  \n",
       "1        98  \n",
       "2        69  \n",
       "3        82  \n",
       "4        91  "
      ]
     },
     "execution_count": 5,
     "metadata": {},
     "output_type": "execute_result"
    }
   ],
   "source": [
    "# Display first rows from the test datasets\n",
    "test_df.head()"
   ]
  },
  {
   "cell_type": "markdown",
   "id": "1e8fff97-8064-4f74-8408-c255d9d62413",
   "metadata": {},
   "source": [
    "- Both datasets share 20 columns.\n",
    "- `unit_number`, `time_in_cycles`: engine and cycle identifiers.\n",
    "- `operational_setting_*` and `sensor_measurement_*`: input features.\n",
    "- Target: `RUL` (train), `true_RUL` (test)."
   ]
  },
  {
   "cell_type": "markdown",
   "id": "ace1e441-804f-4638-8a6d-e7c8d3ddf4d6",
   "metadata": {},
   "source": [
    "## Generate Rolling Features (Train)\n",
    "\n",
    "We compute rolling mean and standard deviation for each sensor over a 5-cycle window.  \n",
    "This is done separately for each engine (unit_number) to avoid data leakage.  \n",
    "These features help capture short-term trends in sensor behavior over time."
   ]
  },
  {
   "cell_type": "code",
   "execution_count": 6,
   "id": "5bc89a2f-5c3f-432e-8c01-8ab2fee6a0a8",
   "metadata": {},
   "outputs": [
    {
     "name": "stdout",
     "output_type": "stream",
     "text": [
      "Train shape after rolling features: (20631, 50)\n"
     ]
    }
   ],
   "source": [
    "# Define sensor columns\n",
    "sensor_cols = [col for col in train_df.columns if col.startswith('sensor_measurement_')]\n",
    "\n",
    "# Window size for rolling calculations\n",
    "window_size = 5\n",
    "\n",
    "# Apply rolling mean and std per engine\n",
    "for col in sensor_cols:\n",
    "    train_df[f'{col}_rolling_mean'] = (\n",
    "        train_df.groupby('unit_number')[col]\n",
    "        .rolling(window=window_size, min_periods=1)\n",
    "        .mean()\n",
    "        .reset_index(level=0, drop=True)\n",
    "    )\n",
    "    train_df[f'{col}_rolling_std'] = (\n",
    "        train_df.groupby('unit_number')[col]\n",
    "        .rolling(window=window_size, min_periods=1)\n",
    "        .std()\n",
    "        .reset_index(level=0, drop=True)\n",
    "    )\n",
    "\n",
    "# Check new shape\n",
    "print(\"Train shape after rolling features:\", train_df.shape)"
   ]
  },
  {
   "cell_type": "markdown",
   "id": "b368c236-40f7-415a-85a8-986ffe3571b0",
   "metadata": {},
   "source": [
    "## Generate Rolling Features (Test)\n",
    "\n",
    "Compute rolling mean and standard deviation for each sensor in the test set over the previous 5 cycles per engine."
   ]
  },
  {
   "cell_type": "code",
   "execution_count": 7,
   "id": "c7a6c97e-9d61-4b37-901c-4b7c52204af0",
   "metadata": {},
   "outputs": [
    {
     "name": "stdout",
     "output_type": "stream",
     "text": [
      "Test shape after rolling features: (100, 50)\n"
     ]
    }
   ],
   "source": [
    "# Apply same rolling features to test set\n",
    "\n",
    "# Define sensor columns\n",
    "sensor_cols = [col for col in test_df.columns if col.startswith('sensor_measurement_')]\n",
    "\n",
    "# Window size for rolling calculations\n",
    "window_size = 5\n",
    "\n",
    "# Apply rolling mean and std per engine\n",
    "for col in sensor_cols:\n",
    "    test_df[f'{col}_rolling_mean'] = (\n",
    "        test_df.groupby('unit_number')[col]\n",
    "        .rolling(window=window_size, min_periods=1)\n",
    "        .mean()\n",
    "        .reset_index(level=0, drop=True)\n",
    "    )\n",
    "    test_df[f'{col}_rolling_std'] = (\n",
    "        test_df.groupby('unit_number')[col]\n",
    "        .rolling(window=window_size, min_periods=1)\n",
    "        .std()\n",
    "        .reset_index(level=0, drop=True)\n",
    "    )\n",
    "\n",
    "# Check new shape\n",
    "print(\"Test shape after rolling features:\", test_df.shape)"
   ]
  },
  {
   "cell_type": "markdown",
   "id": "362c9597-f92a-48c2-b0eb-cd47aceb9663",
   "metadata": {},
   "source": [
    "## Verify rolling feature values for test set\n",
    "\n",
    "Display the first 5 rows of rolling mean and std for two sensors to confirm correct computation.\n"
   ]
  },
  {
   "cell_type": "code",
   "execution_count": 8,
   "id": "545fcc06-a815-4d2c-953e-d0ca99ed4e7e",
   "metadata": {},
   "outputs": [
    {
     "data": {
      "text/html": [
       "<div>\n",
       "<style scoped>\n",
       "    .dataframe tbody tr th:only-of-type {\n",
       "        vertical-align: middle;\n",
       "    }\n",
       "\n",
       "    .dataframe tbody tr th {\n",
       "        vertical-align: top;\n",
       "    }\n",
       "\n",
       "    .dataframe thead th {\n",
       "        text-align: right;\n",
       "    }\n",
       "</style>\n",
       "<table border=\"1\" class=\"dataframe\">\n",
       "  <thead>\n",
       "    <tr style=\"text-align: right;\">\n",
       "      <th></th>\n",
       "      <th>sensor_measurement_2_rolling_mean</th>\n",
       "      <th>sensor_measurement_2_rolling_std</th>\n",
       "      <th>sensor_measurement_3_rolling_mean</th>\n",
       "      <th>sensor_measurement_3_rolling_std</th>\n",
       "    </tr>\n",
       "  </thead>\n",
       "  <tbody>\n",
       "    <tr>\n",
       "      <th>0</th>\n",
       "      <td>642.58</td>\n",
       "      <td>NaN</td>\n",
       "      <td>1581.22</td>\n",
       "      <td>NaN</td>\n",
       "    </tr>\n",
       "    <tr>\n",
       "      <th>1</th>\n",
       "      <td>642.55</td>\n",
       "      <td>NaN</td>\n",
       "      <td>1586.59</td>\n",
       "      <td>NaN</td>\n",
       "    </tr>\n",
       "    <tr>\n",
       "      <th>2</th>\n",
       "      <td>642.88</td>\n",
       "      <td>NaN</td>\n",
       "      <td>1589.75</td>\n",
       "      <td>NaN</td>\n",
       "    </tr>\n",
       "    <tr>\n",
       "      <th>3</th>\n",
       "      <td>642.78</td>\n",
       "      <td>NaN</td>\n",
       "      <td>1594.53</td>\n",
       "      <td>NaN</td>\n",
       "    </tr>\n",
       "    <tr>\n",
       "      <th>4</th>\n",
       "      <td>642.27</td>\n",
       "      <td>NaN</td>\n",
       "      <td>1589.94</td>\n",
       "      <td>NaN</td>\n",
       "    </tr>\n",
       "  </tbody>\n",
       "</table>\n",
       "</div>"
      ],
      "text/plain": [
       "   sensor_measurement_2_rolling_mean  sensor_measurement_2_rolling_std  \\\n",
       "0                             642.58                               NaN   \n",
       "1                             642.55                               NaN   \n",
       "2                             642.88                               NaN   \n",
       "3                             642.78                               NaN   \n",
       "4                             642.27                               NaN   \n",
       "\n",
       "   sensor_measurement_3_rolling_mean  sensor_measurement_3_rolling_std  \n",
       "0                            1581.22                               NaN  \n",
       "1                            1586.59                               NaN  \n",
       "2                            1589.75                               NaN  \n",
       "3                            1594.53                               NaN  \n",
       "4                            1589.94                               NaN  "
      ]
     },
     "execution_count": 8,
     "metadata": {},
     "output_type": "execute_result"
    }
   ],
   "source": [
    "# Preview rolling mean and std for selected sensors in test set\n",
    "test_df[['sensor_measurement_2_rolling_mean', 'sensor_measurement_2_rolling_std',\n",
    "         'sensor_measurement_3_rolling_mean', 'sensor_measurement_3_rolling_std']].head()"
   ]
  },
  {
   "cell_type": "markdown",
   "id": "e4f49573-8faa-4874-b3db-01812722e9f6",
   "metadata": {},
   "source": [
    "The rolling_std values are NaN for the first rows because the window contains only one data point. These NaNs will be replaced with 0 to indicate zero variability for single-point windows."
   ]
  },
  {
   "cell_type": "markdown",
   "id": "5964452b-1286-47fb-b919-c458a7c66c30",
   "metadata": {},
   "source": [
    "### Fix rolling std NaNs\n",
    "\n",
    "Fill NaN values in rolling standard deviation columns with 0, since the std of a single value is 0."
   ]
  },
  {
   "cell_type": "code",
   "execution_count": 9,
   "id": "30aad2b4-fa0f-4a05-9ea1-ab0f8397e1e0",
   "metadata": {},
   "outputs": [
    {
     "data": {
      "text/html": [
       "<div>\n",
       "<style scoped>\n",
       "    .dataframe tbody tr th:only-of-type {\n",
       "        vertical-align: middle;\n",
       "    }\n",
       "\n",
       "    .dataframe tbody tr th {\n",
       "        vertical-align: top;\n",
       "    }\n",
       "\n",
       "    .dataframe thead th {\n",
       "        text-align: right;\n",
       "    }\n",
       "</style>\n",
       "<table border=\"1\" class=\"dataframe\">\n",
       "  <thead>\n",
       "    <tr style=\"text-align: right;\">\n",
       "      <th></th>\n",
       "      <th>sensor_measurement_2_rolling_std</th>\n",
       "      <th>sensor_measurement_3_rolling_std</th>\n",
       "    </tr>\n",
       "  </thead>\n",
       "  <tbody>\n",
       "    <tr>\n",
       "      <th>0</th>\n",
       "      <td>0.0</td>\n",
       "      <td>0.0</td>\n",
       "    </tr>\n",
       "    <tr>\n",
       "      <th>1</th>\n",
       "      <td>0.0</td>\n",
       "      <td>0.0</td>\n",
       "    </tr>\n",
       "    <tr>\n",
       "      <th>2</th>\n",
       "      <td>0.0</td>\n",
       "      <td>0.0</td>\n",
       "    </tr>\n",
       "    <tr>\n",
       "      <th>3</th>\n",
       "      <td>0.0</td>\n",
       "      <td>0.0</td>\n",
       "    </tr>\n",
       "    <tr>\n",
       "      <th>4</th>\n",
       "      <td>0.0</td>\n",
       "      <td>0.0</td>\n",
       "    </tr>\n",
       "  </tbody>\n",
       "</table>\n",
       "</div>"
      ],
      "text/plain": [
       "   sensor_measurement_2_rolling_std  sensor_measurement_3_rolling_std\n",
       "0                               0.0                               0.0\n",
       "1                               0.0                               0.0\n",
       "2                               0.0                               0.0\n",
       "3                               0.0                               0.0\n",
       "4                               0.0                               0.0"
      ]
     },
     "execution_count": 9,
     "metadata": {},
     "output_type": "execute_result"
    }
   ],
   "source": [
    "# Identify rolling_std columns explicitly\n",
    "rolling_std_cols = [col for col in test_df.columns if col.endswith('_rolling_std')]\n",
    "\n",
    "# Fill NaN with 0 for each rolling_std column\n",
    "for col in rolling_std_cols:\n",
    "    test_df[col] = test_df[col].fillna(0)\n",
    "\n",
    "# Verify \n",
    "test_df[rolling_std_cols[:2]].head()"
   ]
  },
  {
   "cell_type": "markdown",
   "id": "7dac25df-59a6-43c1-b1c5-21a2b73ae1b9",
   "metadata": {},
   "source": [
    "### Fix rolling std NaNs in training set\n",
    "\n",
    "Apply the same NaN → 0 replacement for rolling_std features on the training data."
   ]
  },
  {
   "cell_type": "code",
   "execution_count": 10,
   "id": "0dac210f-bf07-4e77-b7e7-c5728d10c776",
   "metadata": {},
   "outputs": [
    {
     "data": {
      "text/html": [
       "<div>\n",
       "<style scoped>\n",
       "    .dataframe tbody tr th:only-of-type {\n",
       "        vertical-align: middle;\n",
       "    }\n",
       "\n",
       "    .dataframe tbody tr th {\n",
       "        vertical-align: top;\n",
       "    }\n",
       "\n",
       "    .dataframe thead th {\n",
       "        text-align: right;\n",
       "    }\n",
       "</style>\n",
       "<table border=\"1\" class=\"dataframe\">\n",
       "  <thead>\n",
       "    <tr style=\"text-align: right;\">\n",
       "      <th></th>\n",
       "      <th>sensor_measurement_2_rolling_std</th>\n",
       "      <th>sensor_measurement_3_rolling_std</th>\n",
       "    </tr>\n",
       "  </thead>\n",
       "  <tbody>\n",
       "    <tr>\n",
       "      <th>0</th>\n",
       "      <td>0.000000</td>\n",
       "      <td>0.000000</td>\n",
       "    </tr>\n",
       "    <tr>\n",
       "      <th>1</th>\n",
       "      <td>0.233345</td>\n",
       "      <td>1.499066</td>\n",
       "    </tr>\n",
       "    <tr>\n",
       "      <th>2</th>\n",
       "      <td>0.267644</td>\n",
       "      <td>1.918654</td>\n",
       "    </tr>\n",
       "    <tr>\n",
       "      <th>3</th>\n",
       "      <td>0.250117</td>\n",
       "      <td>3.855909</td>\n",
       "    </tr>\n",
       "    <tr>\n",
       "      <th>4</th>\n",
       "      <td>0.234776</td>\n",
       "      <td>4.075678</td>\n",
       "    </tr>\n",
       "  </tbody>\n",
       "</table>\n",
       "</div>"
      ],
      "text/plain": [
       "   sensor_measurement_2_rolling_std  sensor_measurement_3_rolling_std\n",
       "0                          0.000000                          0.000000\n",
       "1                          0.233345                          1.499066\n",
       "2                          0.267644                          1.918654\n",
       "3                          0.250117                          3.855909\n",
       "4                          0.234776                          4.075678"
      ]
     },
     "execution_count": 10,
     "metadata": {},
     "output_type": "execute_result"
    }
   ],
   "source": [
    "# Identify rolling_std columns in train_df\n",
    "rolling_std_cols_train = [col for col in train_df.columns if col.endswith('_rolling_std')]\n",
    "\n",
    "# Fill NaN with 0 for each rolling_std column\n",
    "for col in rolling_std_cols_train:\n",
    "    train_df[col] = train_df[col].fillna(0)\n",
    "\n",
    "# Verify the fix on the first few rows\n",
    "train_df[rolling_std_cols_train[:2]].head()"
   ]
  },
  {
   "cell_type": "markdown",
   "id": "616770e0-6e23-4a0f-bb2f-af82cc963e90",
   "metadata": {},
   "source": [
    "- Cycle 0 has `rolling_std = 0` (single data point).  \n",
    "- Subsequent cycles show positive `rolling_std`, representing variability over the 5-cycle window."
   ]
  },
  {
   "cell_type": "markdown",
   "id": "ec710be1-8bb6-4c69-b571-5a621353d167",
   "metadata": {},
   "source": [
    "## Normalized cycle feature\n",
    "\n",
    "Normalized cycle feature (`cycle_ratio`) = current cycle / maximum cycle for each engine.  \n",
    "Values range from 0 (engine start) to 1 (engine end), indicating each observation’s position in the engine’s lifespan."
   ]
  },
  {
   "cell_type": "code",
   "execution_count": 11,
   "id": "3de1d0fc-71aa-49ee-bfbd-c54af845e0a0",
   "metadata": {},
   "outputs": [
    {
     "name": "stdout",
     "output_type": "stream",
     "text": [
      "Train shape: (20631, 51)\n",
      "Test shape: (100, 51)\n",
      "   unit_number  time_in_cycles  cycle_ratio\n",
      "0            1               1     0.005208\n",
      "1            1               2     0.010417\n",
      "2            1               3     0.015625\n",
      "3            1               4     0.020833\n",
      "4            1               5     0.026042\n",
      "\n",
      "Test sample:\n",
      "   unit_number  time_in_cycles  cycle_ratio\n",
      "0            1              31          1.0\n",
      "1            2              49          1.0\n",
      "2            3             126          1.0\n",
      "3            4             106          1.0\n",
      "4            5              98          1.0\n"
     ]
    }
   ],
   "source": [
    "# Compute normalized cycle feature\n",
    "train_df['cycle_ratio'] = train_df['time_in_cycles'] / train_df.groupby('unit_number')['time_in_cycles'].transform('max')\n",
    "test_df['cycle_ratio']  = test_df['time_in_cycles'] / test_df.groupby('unit_number')['time_in_cycles'].transform('max')\n",
    "\n",
    "# Check shapes after adding cycle_ratio\n",
    "print(\"Train shape:\", train_df.shape)\n",
    "print(\"Test shape:\", test_df.shape)\n",
    "\n",
    "# Preview cycle_ratio feature\n",
    "print(train_df[['unit_number', 'time_in_cycles', 'cycle_ratio']].head())\n",
    "print(\"\\nTest sample:\")\n",
    "print(test_df[['unit_number', 'time_in_cycles', 'cycle_ratio']].head())"
   ]
  },
  {
   "cell_type": "markdown",
   "id": "002c1b3b-7fd5-46d9-9382-dabc8cfbc2b4",
   "metadata": {},
   "source": [
    "The shapes confirm `cycle_ratio` has been added (train: 51 columns, test: 51 columns).  \n",
    "In the training set, `cycle_ratio` ranges from near 0 up to 1 over each engine’s life.  \n",
    "In the test set, `cycle_ratio` is constant at 1 because only the last known cycle of each engine is included."
   ]
  },
  {
   "cell_type": "markdown",
   "id": "e3bb7f8b-1d1f-47a3-a70c-1d16e471c114",
   "metadata": {},
   "source": [
    "## Generate Delta Features\n",
    "\n",
    "Compute the difference between each sensor’s current value and its previous cycle for each engine.  \n",
    "Delta features capture the instantaneous change in sensor readings.\n"
   ]
  },
  {
   "cell_type": "code",
   "execution_count": 12,
   "id": "3d6abc36-f62c-450a-86d1-a20d84ce3575",
   "metadata": {},
   "outputs": [
    {
     "name": "stdout",
     "output_type": "stream",
     "text": [
      "Train shape: (20631, 66)\n",
      "Test shape: (100, 66)\n"
     ]
    }
   ],
   "source": [
    "# Define original sensor columns (exclude rolling and other engineered features)\n",
    "sensor_cols = [col for col in train_df.columns \n",
    "               if col.startswith('sensor_measurement_') and \n",
    "                  'rolling' not in col and \n",
    "                  'delta' not in col]\n",
    "\n",
    "# Compute delta features for both train and test\n",
    "for df in [train_df, test_df]:\n",
    "    for col in sensor_cols:\n",
    "        df[f'{col}_delta'] = df.groupby('unit_number')[col].diff().fillna(0)\n",
    "\n",
    "# Check shapes after adding delta features\n",
    "print(\"Train shape:\", train_df.shape)\n",
    "print(\"Test shape:\", test_df.shape)"
   ]
  },
  {
   "cell_type": "markdown",
   "id": "75af3004-5b7e-4754-a79f-a8162a7925eb",
   "metadata": {},
   "source": [
    "After adding delta features, the dataset shapes update to:\n",
    "- Train: (20631, 66)\n",
    "- Test:  (100, 66)\n",
    "\n",
    "This confirms 15 new delta columns (one per sensor) have been appended to both datasets.\n"
   ]
  },
  {
   "cell_type": "markdown",
   "id": "a2643d4f-4d47-4acd-b965-97abda174272",
   "metadata": {},
   "source": [
    "## Remove constant features\n",
    "\n",
    "Drop features that have zero variance in the test set, as they provide no information for prediction.  \n",
    "We identify columns with a single unique value in `test_df` and remove them from both datasets.\n"
   ]
  },
  {
   "cell_type": "code",
   "execution_count": 13,
   "id": "e52bf4d2-84c1-4876-a1c8-d0628fe6b5e8",
   "metadata": {},
   "outputs": [
    {
     "name": "stdout",
     "output_type": "stream",
     "text": [
      "Dropped columns: ['sensor_measurement_2_rolling_std', 'sensor_measurement_3_rolling_std', 'sensor_measurement_4_rolling_std', 'sensor_measurement_6_rolling_std', 'sensor_measurement_7_rolling_std', 'sensor_measurement_8_rolling_std', 'sensor_measurement_9_rolling_std', 'sensor_measurement_11_rolling_std', 'sensor_measurement_12_rolling_std', 'sensor_measurement_13_rolling_std', 'sensor_measurement_14_rolling_std', 'sensor_measurement_15_rolling_std', 'sensor_measurement_17_rolling_std', 'sensor_measurement_20_rolling_std', 'sensor_measurement_21_rolling_std', 'cycle_ratio', 'sensor_measurement_2_delta', 'sensor_measurement_3_delta', 'sensor_measurement_4_delta', 'sensor_measurement_6_delta', 'sensor_measurement_7_delta', 'sensor_measurement_8_delta', 'sensor_measurement_9_delta', 'sensor_measurement_11_delta', 'sensor_measurement_12_delta', 'sensor_measurement_13_delta', 'sensor_measurement_14_delta', 'sensor_measurement_15_delta', 'sensor_measurement_17_delta', 'sensor_measurement_20_delta', 'sensor_measurement_21_delta']\n",
      "Train shape: (20631, 35)\n",
      "Test shape: (100, 35)\n"
     ]
    }
   ],
   "source": [
    "# Identify constant columns in test set\n",
    "constant_cols = [col for col in test_df.columns if test_df[col].nunique() <= 1]\n",
    "\n",
    "# Drop these columns from both train and test\n",
    "train_df.drop(columns=constant_cols, inplace=True)\n",
    "test_df.drop(columns=constant_cols, inplace=True)\n",
    "\n",
    "# Verify shapes after removal\n",
    "print(\"Dropped columns:\", constant_cols)\n",
    "print(\"Train shape:\", train_df.shape)\n",
    "print(\"Test shape:\", test_df.shape)"
   ]
  },
  {
   "cell_type": "markdown",
   "id": "8f504587-6d7b-4d9b-a149-50eac8684d17",
   "metadata": {},
   "source": [
    "Resulting dataset shapes:\n",
    "- Train: (20631, 35)\n",
    "- Test:  (100, 35)\n",
    "\n",
    "All removed features had zero variance in the test set and therefore add no predictive value."
   ]
  },
  {
   "cell_type": "markdown",
   "id": "3c7dc381-4e51-4d9e-b12b-8e84a9418c91",
   "metadata": {},
   "source": [
    "## Feature Scaling\n",
    "\n",
    "Apply standard scaling (zero mean, unit variance) to all feature columns.  \n",
    "We fit the scaler on the training set and transform both train and test to ensure consistency."
   ]
  },
  {
   "cell_type": "code",
   "execution_count": 14,
   "id": "d0c5238e-0eeb-4b8f-8ead-0c44dd226d72",
   "metadata": {},
   "outputs": [
    {
     "name": "stdout",
     "output_type": "stream",
     "text": [
      "Train feature means (first 5):\n",
      " operational_setting_1    0.0\n",
      "operational_setting_2   -0.0\n",
      "sensor_measurement_2     0.0\n",
      "sensor_measurement_3    -0.0\n",
      "sensor_measurement_4     0.0\n",
      "dtype: float64\n",
      "\n",
      "Train feature stds (first 5):\n",
      " operational_setting_1    1.0\n",
      "operational_setting_2    1.0\n",
      "sensor_measurement_2     1.0\n",
      "sensor_measurement_3     1.0\n",
      "sensor_measurement_4     1.0\n",
      "dtype: float64\n"
     ]
    }
   ],
   "source": [
    "# Identify feature columns (exclude identifiers and target)\n",
    "feature_cols = [col for col in train_df.columns \n",
    "                if col not in ['unit_number', 'time_in_cycles', 'RUL']]\n",
    "\n",
    "# Initialize scaler and fit on train features\n",
    "scaler = StandardScaler()\n",
    "train_df[feature_cols] = scaler.fit_transform(train_df[feature_cols])\n",
    "\n",
    "# Transform test features\n",
    "test_df[feature_cols] = scaler.transform(test_df[feature_cols])\n",
    "\n",
    "# Verify scaling: train feature means ~0, std ~1\n",
    "print(\"Train feature means (first 5):\\n\", train_df[feature_cols].mean().round(2).head())\n",
    "print(\"\\nTrain feature stds (first 5):\\n\", train_df[feature_cols].std().round(2).head())"
   ]
  },
  {
   "cell_type": "markdown",
   "id": "c8158b24-a62c-41d9-be63-3fde337184e6",
   "metadata": {},
   "source": [
    "# Correlation-based feature selection\n",
    "\n",
    "From EDA, these sensor pairs showed high correlation (>0.80):\n",
    "- sensor_measurement_9 & sensor_measurement_14  \n",
    "- sensor_measurement_8 & sensor_measurement_13  \n",
    "- sensor_measurement_4 & sensor_measurement_11  \n",
    "- sensor_measurement_7 & sensor_measurement_12  \n",
    "\n",
    "We drop one feature from each pair to reduce redundancy:\n",
    "- Drop: `sensor_measurement_14`, `sensor_measurement_13`, `sensor_measurement_11`, `sensor_measurement_12`."
   ]
  },
  {
   "cell_type": "code",
   "execution_count": 15,
   "id": "3f017ad3-f612-4f3d-9360-d8f5b6a650f2",
   "metadata": {},
   "outputs": [
    {
     "name": "stdout",
     "output_type": "stream",
     "text": [
      "Train shape after corr selection: (20631, 31)\n",
      "Test shape after corr selection:  (100, 31)\n"
     ]
    }
   ],
   "source": [
    "# Drop highly correlated features identified in EDA\n",
    "drop_cols = [\n",
    "    'sensor_measurement_14',\n",
    "    'sensor_measurement_13',\n",
    "    'sensor_measurement_11',\n",
    "    'sensor_measurement_12'\n",
    "]\n",
    "\n",
    "train_df.drop(columns=drop_cols, inplace=True)\n",
    "test_df.drop(columns=drop_cols, inplace=True)\n",
    "\n",
    "# Verify shapes after dropping\n",
    "print(\"Train shape after corr selection:\", train_df.shape)\n",
    "print(\"Test shape after corr selection: \", test_df.shape)"
   ]
  },
  {
   "cell_type": "markdown",
   "id": "35205329-9c5d-4891-ae79-58fd163b5194",
   "metadata": {},
   "source": [
    "After dropping four highly correlated sensors, the dataset shapes update to:\n",
    "- Train: (20631, 31)\n",
    "- Test:  (100, 31)"
   ]
  },
  {
   "cell_type": "markdown",
   "id": "c3d849af-d5b1-4bee-b9fe-056a3576f1ea",
   "metadata": {},
   "source": [
    "## Save feature-engineered datasets\n",
    "\n",
    "Save the final train and test sets with all engineered features for modeling."
   ]
  },
  {
   "cell_type": "code",
   "execution_count": 16,
   "id": "90b04fbe-38ce-4653-8ff4-1fa762933619",
   "metadata": {},
   "outputs": [],
   "source": [
    "## Save the processed feature datasets\n",
    "train_df.to_csv(\"../data/processed/train_features.csv\", index=False)\n",
    "test_df.to_csv(\"../data/processed/test_features.csv\", index=False)"
   ]
  },
  {
   "cell_type": "markdown",
   "id": "6f919921-c9c6-43b0-bbf7-6ac063decc55",
   "metadata": {},
   "source": [
    "## Summary\n",
    "\n",
    "1. Loaded data (train: 20631×20, test: 100×20)  \n",
    "2. Added rolling features (mean & std over 5 cycles) → train: 20631×50, test: 100×50  \n",
    "3. Replaced NaN in rolling_std with 0  \n",
    "4. Added `cycle_ratio` → train: 20631×51, test: 100×51 (constant in test)  \n",
    "5. Added delta features (difference to previous cycle) → train: 20631×66, test: 100×66  \n",
    "6. Dropped zero-variance columns → train: 20631×35, test: 100×35  \n",
    "7. Standard scaled all features (fit on train, transform both)  \n",
    "8. Removed four highly correlated sensors → final: train: 20631×31, test: 100×31  \n",
    "\n",
    "Datasets saved as `train_features.csv` and `test_features.csv`."
   ]
  }
 ],
 "metadata": {
  "kernelspec": {
   "display_name": "Python [conda env:base] *",
   "language": "python",
   "name": "conda-base-py"
  },
  "language_info": {
   "codemirror_mode": {
    "name": "ipython",
    "version": 3
   },
   "file_extension": ".py",
   "mimetype": "text/x-python",
   "name": "python",
   "nbconvert_exporter": "python",
   "pygments_lexer": "ipython3",
   "version": "3.12.7"
  }
 },
 "nbformat": 4,
 "nbformat_minor": 5
}
