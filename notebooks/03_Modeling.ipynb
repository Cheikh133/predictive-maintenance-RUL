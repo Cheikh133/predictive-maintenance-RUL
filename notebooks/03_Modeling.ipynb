{
 "cells": [
  {
   "cell_type": "markdown",
   "id": "470ca5aa-9fae-4383-b7be-e8df89806358",
   "metadata": {},
   "source": [
    "# 03 – Modeling\n",
    "\n",
    "Load feature-engineered data, train and compare regression models for RUL prediction, and prepare the chosen pipeline for production deployment."
   ]
  },
  {
   "cell_type": "markdown",
   "id": "06446d44-e035-4e29-a832-170fd123fa2d",
   "metadata": {},
   "source": [
    "## 1. Setup and Imports\n",
    "\n",
    "Import necessary libraries and set a random seed for reproducibility."
   ]
  },
  {
   "cell_type": "code",
   "execution_count": 1,
   "id": "26ca757d-927e-4df7-8106-fbe1e19a28b5",
   "metadata": {},
   "outputs": [],
   "source": [
    "import numpy as np\n",
    "import pandas as pd\n",
    "import matplotlib.pyplot as plt\n",
    "\n",
    "from sklearn.model_selection import KFold, cross_val_score, RandomizedSearchCV, GroupKFold, learning_curve\n",
    "from sklearn.linear_model import LinearRegression, Ridge, Lasso\n",
    "from sklearn.ensemble import RandomForestRegressor\n",
    "from sklearn.svm import SVR\n",
    "from sklearn.neural_network import MLPRegressor\n",
    "from scipy.stats import randint\n",
    "from sklearn.metrics import make_scorer, mean_absolute_error, mean_squared_error\n",
    "from joblib import dump\n",
    "from lightgbm import LGBMRegressor\n",
    "import lightgbm as lgb\n",
    "import xgboost as xgb\n",
    "import optuna\n",
    "\n",
    "\n",
    "# Fix random seed\n",
    "RANDOM_STATE = 42\n",
    "np.random.seed(RANDOM_STATE)"
   ]
  },
  {
   "cell_type": "markdown",
   "id": "65e26964-f115-4f4a-b27e-a139e8221b05",
   "metadata": {},
   "source": [
    "## 2. Load Data\n",
    "\n",
    "Load processed train and test sets, define feature matrix (X) and target vectors (y)."
   ]
  },
  {
   "cell_type": "code",
   "execution_count": 2,
   "id": "388b1a53-1130-4729-be56-6c1242be41fa",
   "metadata": {},
   "outputs": [
    {
     "name": "stdout",
     "output_type": "stream",
     "text": [
      "X_train shape: (20631, 28)\n",
      "y_train shape: (20631,)\n",
      "X_test shape:  (100, 28)\n",
      "y_test shape:  (100,)\n"
     ]
    }
   ],
   "source": [
    "# Load processed feature datasets\n",
    "train = pd.read_csv(\"../data/processed/train_features.csv\")\n",
    "test  = pd.read_csv(\"../data/processed/test_features.csv\")\n",
    "\n",
    "# Define feature columns (exclude identifiers and targets)\n",
    "feature_cols = [c for c in train.columns if c not in [\"unit_number\", \"time_in_cycles\", \"RUL\"]]\n",
    "\n",
    "# Prepare train and test matrices\n",
    "X_train = train[feature_cols]\n",
    "y_train = train[\"RUL\"]\n",
    "\n",
    "X_test  = test[feature_cols]\n",
    "y_test  = test[\"true_RUL\"]\n",
    "\n",
    "# Display shapes\n",
    "print(\"X_train shape:\", X_train.shape)\n",
    "print(\"y_train shape:\", y_train.shape)\n",
    "print(\"X_test shape: \", X_test.shape)\n",
    "print(\"y_test shape: \", y_test.shape)"
   ]
  },
  {
   "cell_type": "markdown",
   "id": "49209a8a-3331-4b11-9243-9f09971bac3e",
   "metadata": {},
   "source": [
    "## 3. Define Metrics and CV\n",
    "\n",
    "We use 5-fold `GroupKFold` on `unit_number` to avoid leaking engine-specific patterns.  \n",
    "Metrics:  \n",
    "- **MAE** (Mean Absolute Error)  \n",
    "- **RMSE** (Root Mean Squared Error)"
   ]
  },
  {
   "cell_type": "code",
   "execution_count": 3,
   "id": "0d8304fb-32b4-4468-a20a-e69330be8d37",
   "metadata": {},
   "outputs": [],
   "source": [
    "# Define scorers (negative because sklearn expects higher = better)\n",
    "mae_scorer  = make_scorer(mean_absolute_error, greater_is_better=False)\n",
    "rmse_scorer = make_scorer(lambda y, y_pred: np.sqrt(mean_squared_error(y, y_pred)),\n",
    "                           greater_is_better=False)\n",
    "\n",
    "# CV splitter\n",
    "groups = train[\"unit_number\"]\n",
    "cv = GroupKFold(n_splits=5)"
   ]
  },
  {
   "cell_type": "markdown",
   "id": "28e154c0-d6b4-4a19-9ae2-5bee940facf5",
   "metadata": {},
   "source": [
    "## 4. Baseline Models\n",
    "\n",
    "Train and evaluate simple regression baselines with GroupKFold CV:\n",
    "- LinearRegression  \n",
    "- Ridge (α=1.0)  \n",
    "- Lasso (α=0.1)  \n",
    "\n",
    "We record MAE and RMSE for each."
   ]
  },
  {
   "cell_type": "code",
   "execution_count": 4,
   "id": "df559a48-2481-4b6a-9692-0045c4d285e5",
   "metadata": {},
   "outputs": [
    {
     "name": "stdout",
     "output_type": "stream",
     "text": [
      "              model   MAE_mean   MAE_std  RMSE_mean  RMSE_std\n",
      "0  LinearRegression  33.867099  2.050906  44.237825  3.451820\n",
      "1             Ridge  33.866912  2.050889  44.237566  3.451892\n",
      "2             Lasso  33.867179  2.042821  44.247170  3.454029\n"
     ]
    }
   ],
   "source": [
    "models = {\n",
    "    \"LinearRegression\": LinearRegression(),\n",
    "    \"Ridge\": Ridge(alpha=1.0, random_state=RANDOM_STATE),\n",
    "    \"Lasso\": Lasso(alpha=0.1, random_state=RANDOM_STATE)\n",
    "}\n",
    "\n",
    "results = []\n",
    "\n",
    "for name, model in models.items():\n",
    "    mae_scores = cross_val_score(model, X_train, y_train,\n",
    "                                 scoring=mae_scorer, cv=cv, groups=groups)\n",
    "    rmse_scores = cross_val_score(model, X_train, y_train,\n",
    "                                  scoring=rmse_scorer, cv=cv, groups=groups)\n",
    "    results.append({\n",
    "        \"model\": name,\n",
    "        \"MAE_mean\": -mae_scores.mean(),\n",
    "        \"MAE_std\":  mae_scores.std(),\n",
    "        \"RMSE_mean\": -rmse_scores.mean(),\n",
    "        \"RMSE_std\": rmse_scores.std()\n",
    "    })\n",
    "\n",
    "cv_baseline = pd.DataFrame(results)\n",
    "print(cv_baseline)"
   ]
  },
  {
   "cell_type": "markdown",
   "id": "6b2411ee-e8e7-4eda-a502-9ea4d1b5deb5",
   "metadata": {},
   "source": [
    "The baseline linear models perform almost identically:\n",
    "- Ridge has the lowest MAE (33.8669) and RMSE (44.2376), slightly outperforming LinearRegression.\n",
    "- Lasso shows comparable MAE (33.8672) but a marginally higher RMSE (44.2472).\n",
    "\n",
    "Regularization at these α values has minimal effect; Ridge offers the best baseline.  "
   ]
  },
  {
   "cell_type": "markdown",
   "id": "6b504567-175f-4be4-95b0-1ee5abd6d6e6",
   "metadata": {},
   "source": [
    "## 5. Tree Ensemble Models\n",
    "\n",
    "Next, we train and evaluate:\n",
    "- RandomForestRegressor (n_estimators=100)  \n",
    "- LightGBMRegressor (default parameters)\n",
    "\n",
    "We use the same GroupKFold CV and metrics."
   ]
  },
  {
   "cell_type": "code",
   "execution_count": 5,
   "id": "748ce8ad-95e6-45e5-98ab-97976c161084",
   "metadata": {},
   "outputs": [
    {
     "name": "stdout",
     "output_type": "stream",
     "text": [
      "[LightGBM] [Info] Auto-choosing col-wise multi-threading, the overhead of testing was 0.004047 seconds.\n",
      "You can set `force_col_wise=true` to remove the overhead.\n",
      "[LightGBM] [Info] Total Bins 5496\n",
      "[LightGBM] [Info] Number of data points in the train set: 16511, number of used features: 28\n",
      "[LightGBM] [Info] Start training from score 107.636727\n",
      "[LightGBM] [Info] Auto-choosing col-wise multi-threading, the overhead of testing was 0.003432 seconds.\n",
      "You can set `force_col_wise=true` to remove the overhead.\n",
      "[LightGBM] [Info] Total Bins 5500\n",
      "[LightGBM] [Info] Number of data points in the train set: 16498, number of used features: 28\n",
      "[LightGBM] [Info] Start training from score 107.750091\n",
      "[LightGBM] [Info] Auto-choosing col-wise multi-threading, the overhead of testing was 0.003844 seconds.\n",
      "You can set `force_col_wise=true` to remove the overhead.\n",
      "[LightGBM] [Info] Total Bins 5496\n",
      "[LightGBM] [Info] Number of data points in the train set: 16505, number of used features: 28\n",
      "[LightGBM] [Info] Start training from score 107.801272\n",
      "[LightGBM] [Info] Auto-choosing col-wise multi-threading, the overhead of testing was 0.004245 seconds.\n",
      "You can set `force_col_wise=true` to remove the overhead.\n",
      "[LightGBM] [Info] Total Bins 5500\n",
      "[LightGBM] [Info] Number of data points in the train set: 16506, number of used features: 28\n",
      "[LightGBM] [Info] Start training from score 107.898946\n",
      "[LightGBM] [Info] Auto-choosing col-wise multi-threading, the overhead of testing was 0.003768 seconds.\n",
      "You can set `force_col_wise=true` to remove the overhead.\n",
      "[LightGBM] [Info] Total Bins 5496\n",
      "[LightGBM] [Info] Number of data points in the train set: 16504, number of used features: 28\n",
      "[LightGBM] [Info] Start training from score 107.952315\n",
      "[LightGBM] [Info] Auto-choosing col-wise multi-threading, the overhead of testing was 0.003685 seconds.\n",
      "You can set `force_col_wise=true` to remove the overhead.\n",
      "[LightGBM] [Info] Total Bins 5496\n",
      "[LightGBM] [Info] Number of data points in the train set: 16511, number of used features: 28\n",
      "[LightGBM] [Info] Start training from score 107.636727\n",
      "[LightGBM] [Info] Auto-choosing col-wise multi-threading, the overhead of testing was 0.004056 seconds.\n",
      "You can set `force_col_wise=true` to remove the overhead.\n",
      "[LightGBM] [Info] Total Bins 5500\n",
      "[LightGBM] [Info] Number of data points in the train set: 16498, number of used features: 28\n",
      "[LightGBM] [Info] Start training from score 107.750091\n",
      "[LightGBM] [Info] Auto-choosing col-wise multi-threading, the overhead of testing was 0.003224 seconds.\n",
      "You can set `force_col_wise=true` to remove the overhead.\n",
      "[LightGBM] [Info] Total Bins 5496\n",
      "[LightGBM] [Info] Number of data points in the train set: 16505, number of used features: 28\n",
      "[LightGBM] [Info] Start training from score 107.801272\n",
      "[LightGBM] [Info] Auto-choosing col-wise multi-threading, the overhead of testing was 0.004115 seconds.\n",
      "You can set `force_col_wise=true` to remove the overhead.\n",
      "[LightGBM] [Info] Total Bins 5500\n",
      "[LightGBM] [Info] Number of data points in the train set: 16506, number of used features: 28\n",
      "[LightGBM] [Info] Start training from score 107.898946\n",
      "[LightGBM] [Info] Auto-choosing col-wise multi-threading, the overhead of testing was 0.003304 seconds.\n",
      "You can set `force_col_wise=true` to remove the overhead.\n",
      "[LightGBM] [Info] Total Bins 5496\n",
      "[LightGBM] [Info] Number of data points in the train set: 16504, number of used features: 28\n",
      "[LightGBM] [Info] Start training from score 107.952315\n",
      "          model   MAE_mean   MAE_std  RMSE_mean  RMSE_std\n",
      "0  RandomForest  30.119928  2.396733  42.883562  3.310426\n",
      "1      LightGBM  30.280295  2.390070  42.897641  3.516611\n"
     ]
    }
   ],
   "source": [
    "ensemble_models = {\n",
    "    \"RandomForest\": RandomForestRegressor(n_estimators=100, random_state=RANDOM_STATE),\n",
    "    \"LightGBM\": lgb.LGBMRegressor(random_state=RANDOM_STATE)\n",
    "}\n",
    "\n",
    "results = []\n",
    "for name, model in ensemble_models.items():\n",
    "    mae_scores = cross_val_score(model, X_train, y_train,\n",
    "                                 scoring=mae_scorer, cv=cv, groups=groups)\n",
    "    rmse_scores = cross_val_score(model, X_train, y_train,\n",
    "                                  scoring=rmse_scorer, cv=cv, groups=groups)\n",
    "    results.append({\n",
    "        \"model\": name,\n",
    "        \"MAE_mean\": -mae_scores.mean(),\n",
    "        \"MAE_std\":  mae_scores.std(),\n",
    "        \"RMSE_mean\": -rmse_scores.mean(),\n",
    "        \"RMSE_std\": rmse_scores.std()\n",
    "    })\n",
    "\n",
    "cv_ensemble = pd.DataFrame(results)\n",
    "print(cv_ensemble)"
   ]
  },
  {
   "cell_type": "markdown",
   "id": "299c34f5-64f1-42f0-bb04-834920ec1574",
   "metadata": {},
   "source": [
    "Ridge (MAE ≃ 33.87, RMSE ≃ 44.24) was our best linear baseline.  \n",
    "Ensembles reduce MAE by ~3.6 cycles:\n",
    "- RandomForest: MAE ≃ 30.12 (σ ≃ 2.40), RMSE ≃ 42.88 (σ ≃ 3.31)  \n",
    "- LightGBM:     MAE ≃ 30.28 (σ ≃ 2.39), RMSE ≃ 42.90 (σ ≃ 3.52)\n",
    "\n",
    "RandomForest and LightGBM are our leading candidates for hyperparameter tuning, with RandomForest slightly ahead."
   ]
  },
  {
   "cell_type": "markdown",
   "id": "90107bdd-ed2b-4400-912e-4f39943423a8",
   "metadata": {},
   "source": [
    "## 6. Hyperparameter Tuning\n",
    "\n",
    "We optimize RandomForest and LightGBM efficiently, using:\n",
    "\n",
    "- **RandomizedSearchCV** on RandomForest with a limited number of iterations and 3-fold GroupKFold to speed up tuning.  \n",
    "- **Optuna + LightGBM’s native CV** : We perform grouped 3-fold CV with early stopping to minimize MAE.  \n",
    "\n",
    "Both optimize MAE but we’ll record RMSE as well."
   ]
  },
  {
   "cell_type": "code",
   "execution_count": 6,
   "id": "609407cf-77b3-4c81-b7d7-38950af71695",
   "metadata": {},
   "outputs": [
    {
     "name": "stdout",
     "output_type": "stream",
     "text": [
      "RF best params: {'max_depth': 10, 'min_samples_leaf': 3, 'min_samples_split': 4, 'n_estimators': 137}\n",
      "RF best MAE (CV): 30.146859644296445\n"
     ]
    }
   ],
   "source": [
    "# 1. RandomForest tuning with RandomizedSearchCV\n",
    "rf = RandomForestRegressor(random_state=RANDOM_STATE, n_jobs=-1)\n",
    "\n",
    "param_dist_rf = {\n",
    "    'n_estimators': randint(50, 200),    # sample between 50 and 200\n",
    "    'max_depth': [None] + list(range(5, 21, 5)),\n",
    "    'min_samples_split': randint(2, 10),\n",
    "    'min_samples_leaf': randint(1, 5)\n",
    "}\n",
    "\n",
    "rs_rf = RandomizedSearchCV(\n",
    "    rf,\n",
    "    param_distributions=param_dist_rf,\n",
    "    n_iter=20,                         # only 20 parameter settings\n",
    "    scoring=mae_scorer,\n",
    "    cv=GroupKFold(n_splits=3),\n",
    "    random_state=RANDOM_STATE,\n",
    "    n_jobs=-1,\n",
    "    refit=True\n",
    ")\n",
    "\n",
    "rs_rf.fit(X_train, y_train, groups=groups)\n",
    "print(\"RF best params:\", rs_rf.best_params_)\n",
    "print(\"RF best MAE (CV):\", -rs_rf.best_score_)"
   ]
  },
  {
   "cell_type": "markdown",
   "id": "8893a180-fd35-4bcd-ba0b-b082df05feb7",
   "metadata": {},
   "source": [
    "Hyperparameter search yields a slight MAE improvement over the default (30.12 → 30.15) with fewer folds. Next: Optuna tuning for LightGBM."
   ]
  },
  {
   "cell_type": "code",
   "execution_count": 7,
   "id": "d0121496-edcc-41b9-a5ae-2dcab72e7e0b",
   "metadata": {},
   "outputs": [
    {
     "name": "stderr",
     "output_type": "stream",
     "text": [
      "[I 2025-07-13 00:02:48,519] A new study created in memory with name: no-name-ece80447-ed0f-45f8-b112-cb6a9f223759\n"
     ]
    },
    {
     "name": "stdout",
     "output_type": "stream",
     "text": [
      "Training until validation scores don't improve for 20 rounds\n",
      "Early stopping, best iteration is:\n",
      "[306]\tvalid_0's l1: 27.1962\n",
      "Training until validation scores don't improve for 20 rounds\n",
      "Early stopping, best iteration is:\n",
      "[209]\tvalid_0's l1: 30.5714\n",
      "Training until validation scores don't improve for 20 rounds\n"
     ]
    },
    {
     "name": "stderr",
     "output_type": "stream",
     "text": [
      "[I 2025-07-13 00:04:03,985] Trial 0 finished with value: 30.354481810275814 and parameters: {'learning_rate': 0.015355286838886862, 'num_leaves': 97, 'min_data_in_leaf': 40, 'feature_fraction': 0.8394633936788146, 'bagging_fraction': 0.6624074561769746, 'bagging_freq': 1}. Best is trial 0 with value: 30.354481810275814.\n"
     ]
    },
    {
     "name": "stdout",
     "output_type": "stream",
     "text": [
      "Early stopping, best iteration is:\n",
      "[195]\tvalid_0's l1: 33.2959\n",
      "Training until validation scores don't improve for 20 rounds\n",
      "Did not meet early stopping. Best iteration is:\n",
      "[500]\tvalid_0's l1: 27.5963\n",
      "Training until validation scores don't improve for 20 rounds\n",
      "Did not meet early stopping. Best iteration is:\n",
      "[500]\tvalid_0's l1: 30.5913\n",
      "Training until validation scores don't improve for 20 rounds\n",
      "Did not meet early stopping. Best iteration is:\n",
      "[489]\tvalid_0's l1: 33.3989\n"
     ]
    },
    {
     "name": "stderr",
     "output_type": "stream",
     "text": [
      "[I 2025-07-13 00:04:26,883] Trial 1 finished with value: 30.528850494101466 and parameters: {'learning_rate': 0.005950295391592125, 'num_leaves': 90, 'min_data_in_leaf': 34, 'feature_fraction': 0.8832290311184181, 'bagging_fraction': 0.608233797718321, 'bagging_freq': 5}. Best is trial 0 with value: 30.354481810275814.\n"
     ]
    },
    {
     "name": "stdout",
     "output_type": "stream",
     "text": [
      "Training until validation scores don't improve for 20 rounds\n",
      "Early stopping, best iteration is:\n",
      "[88]\tvalid_0's l1: 27.0444\n",
      "Training until validation scores don't improve for 20 rounds\n",
      "Early stopping, best iteration is:\n",
      "[62]\tvalid_0's l1: 30.3771\n",
      "Training until validation scores don't improve for 20 rounds\n"
     ]
    },
    {
     "name": "stderr",
     "output_type": "stream",
     "text": [
      "[I 2025-07-13 00:04:28,603] Trial 2 finished with value: 30.272197952447897 and parameters: {'learning_rate': 0.060534484680010825, 'num_leaves': 37, 'min_data_in_leaf': 17, 'feature_fraction': 0.6733618039413735, 'bagging_fraction': 0.7216968971838151, 'bagging_freq': 3}. Best is trial 2 with value: 30.272197952447897.\n"
     ]
    },
    {
     "name": "stdout",
     "output_type": "stream",
     "text": [
      "Early stopping, best iteration is:\n",
      "[49]\tvalid_0's l1: 33.3951\n",
      "Training until validation scores don't improve for 20 rounds\n",
      "Early stopping, best iteration is:\n",
      "[282]\tvalid_0's l1: 26.9453\n",
      "Training until validation scores don't improve for 20 rounds\n",
      "Early stopping, best iteration is:\n",
      "[181]\tvalid_0's l1: 30.3975\n",
      "Training until validation scores don't improve for 20 rounds\n"
     ]
    },
    {
     "name": "stderr",
     "output_type": "stream",
     "text": [
      "[I 2025-07-13 00:04:33,131] Trial 3 finished with value: 30.228271465798155 and parameters: {'learning_rate': 0.018236581424556052, 'num_leaves': 43, 'min_data_in_leaf': 35, 'feature_fraction': 0.6557975442608167, 'bagging_fraction': 0.7168578594140873, 'bagging_freq': 2}. Best is trial 3 with value: 30.228271465798155.\n"
     ]
    },
    {
     "name": "stdout",
     "output_type": "stream",
     "text": [
      "Early stopping, best iteration is:\n",
      "[182]\tvalid_0's l1: 33.342\n",
      "Training until validation scores don't improve for 20 rounds\n",
      "Early stopping, best iteration is:\n",
      "[294]\tvalid_0's l1: 26.9809\n",
      "Training until validation scores don't improve for 20 rounds\n",
      "Early stopping, best iteration is:\n",
      "[186]\tvalid_0's l1: 30.582\n",
      "Training until validation scores don't improve for 20 rounds\n"
     ]
    },
    {
     "name": "stderr",
     "output_type": "stream",
     "text": [
      "[I 2025-07-13 00:04:42,291] Trial 4 finished with value: 30.29681613110239 and parameters: {'learning_rate': 0.019603369861210685, 'num_leaves': 83, 'min_data_in_leaf': 18, 'feature_fraction': 0.8056937753654446, 'bagging_fraction': 0.836965827544817, 'bagging_freq': 1}. Best is trial 3 with value: 30.228271465798155.\n"
     ]
    },
    {
     "name": "stdout",
     "output_type": "stream",
     "text": [
      "Early stopping, best iteration is:\n",
      "[171]\tvalid_0's l1: 33.3276\n",
      "Training until validation scores don't improve for 20 rounds\n",
      "Early stopping, best iteration is:\n",
      "[189]\tvalid_0's l1: 26.9429\n",
      "Training until validation scores don't improve for 20 rounds\n",
      "Early stopping, best iteration is:\n",
      "[133]\tvalid_0's l1: 30.4303\n",
      "Training until validation scores don't improve for 20 rounds\n"
     ]
    },
    {
     "name": "stderr",
     "output_type": "stream",
     "text": [
      "[I 2025-07-13 00:04:45,438] Trial 5 finished with value: 30.263054629399914 and parameters: {'learning_rate': 0.030860579740535368, 'num_leaves': 33, 'min_data_in_leaf': 12, 'feature_fraction': 0.9795542149013333, 'bagging_fraction': 0.9862528132298237, 'bagging_freq': 5}. Best is trial 3 with value: 30.228271465798155.\n"
     ]
    },
    {
     "name": "stdout",
     "output_type": "stream",
     "text": [
      "Early stopping, best iteration is:\n",
      "[125]\tvalid_0's l1: 33.4159\n",
      "Training until validation scores don't improve for 20 rounds\n",
      "Early stopping, best iteration is:\n",
      "[417]\tvalid_0's l1: 26.9339\n",
      "Training until validation scores don't improve for 20 rounds\n",
      "Early stopping, best iteration is:\n",
      "[301]\tvalid_0's l1: 30.2873\n",
      "Training until validation scores don't improve for 20 rounds\n"
     ]
    },
    {
     "name": "stderr",
     "output_type": "stream",
     "text": [
      "[I 2025-07-13 00:04:51,289] Trial 6 finished with value: 30.218925561956013 and parameters: {'learning_rate': 0.012453219846912198, 'num_leaves': 27, 'min_data_in_leaf': 38, 'feature_fraction': 0.7760609974958406, 'bagging_fraction': 0.6488152939379115, 'bagging_freq': 3}. Best is trial 6 with value: 30.218925561956013.\n"
     ]
    },
    {
     "name": "stdout",
     "output_type": "stream",
     "text": [
      "Early stopping, best iteration is:\n",
      "[260]\tvalid_0's l1: 33.4356\n",
      "Training until validation scores don't improve for 20 rounds\n",
      "Did not meet early stopping. Best iteration is:\n",
      "[500]\tvalid_0's l1: 27.8315\n",
      "Training until validation scores don't improve for 20 rounds\n",
      "Did not meet early stopping. Best iteration is:\n",
      "[500]\tvalid_0's l1: 30.722\n",
      "Training until validation scores don't improve for 20 rounds\n",
      "Did not meet early stopping. Best iteration is:\n",
      "[499]\tvalid_0's l1: 33.3514\n"
     ]
    },
    {
     "name": "stderr",
     "output_type": "stream",
     "text": [
      "[I 2025-07-13 00:05:11,671] Trial 7 finished with value: 30.63496587104906 and parameters: {'learning_rate': 0.005542561258655853, 'num_leaves': 93, 'min_data_in_leaf': 20, 'feature_fraction': 0.8650089137415928, 'bagging_fraction': 0.7246844304357644, 'bagging_freq': 3}. Best is trial 6 with value: 30.218925561956013.\n"
     ]
    },
    {
     "name": "stdout",
     "output_type": "stream",
     "text": [
      "Training until validation scores don't improve for 20 rounds\n",
      "Early stopping, best iteration is:\n",
      "[218]\tvalid_0's l1: 26.9218\n",
      "Training until validation scores don't improve for 20 rounds\n",
      "Early stopping, best iteration is:\n",
      "[138]\tvalid_0's l1: 30.3917\n",
      "Training until validation scores don't improve for 20 rounds\n"
     ]
    },
    {
     "name": "stderr",
     "output_type": "stream",
     "text": [
      "[I 2025-07-13 00:05:15,266] Trial 8 finished with value: 30.241518878701715 and parameters: {'learning_rate': 0.025719142025384646, 'num_leaves': 34, 'min_data_in_leaf': 49, 'feature_fraction': 0.9100531293444458, 'bagging_fraction': 0.9757995766256756, 'bagging_freq': 5}. Best is trial 6 with value: 30.218925561956013.\n"
     ]
    },
    {
     "name": "stdout",
     "output_type": "stream",
     "text": [
      "Early stopping, best iteration is:\n",
      "[141]\tvalid_0's l1: 33.411\n",
      "Training until validation scores don't improve for 20 rounds\n",
      "Early stopping, best iteration is:\n",
      "[171]\tvalid_0's l1: 26.8328\n",
      "Training until validation scores don't improve for 20 rounds\n",
      "Early stopping, best iteration is:\n",
      "[115]\tvalid_0's l1: 30.5793\n",
      "Training until validation scores don't improve for 20 rounds\n"
     ]
    },
    {
     "name": "stderr",
     "output_type": "stream",
     "text": [
      "[I 2025-07-13 00:05:20,051] Trial 9 finished with value: 30.259740717499323 and parameters: {'learning_rate': 0.0299816694120633, 'num_leaves': 94, 'min_data_in_leaf': 13, 'feature_fraction': 0.6783931449676581, 'bagging_fraction': 0.6180909155642152, 'bagging_freq': 2}. Best is trial 6 with value: 30.218925561956013.\n"
     ]
    },
    {
     "name": "stdout",
     "output_type": "stream",
     "text": [
      "Early stopping, best iteration is:\n",
      "[94]\tvalid_0's l1: 33.3671\n",
      "Training until validation scores don't improve for 20 rounds\n",
      "Did not meet early stopping. Best iteration is:\n",
      "[500]\tvalid_0's l1: 26.8632\n",
      "Training until validation scores don't improve for 20 rounds\n",
      "Early stopping, best iteration is:\n",
      "[339]\tvalid_0's l1: 30.2333\n",
      "Training until validation scores don't improve for 20 rounds\n"
     ]
    },
    {
     "name": "stderr",
     "output_type": "stream",
     "text": [
      "[I 2025-07-13 00:05:26,375] Trial 10 finished with value: 30.18258143035754 and parameters: {'learning_rate': 0.010445323871418272, 'num_leaves': 20, 'min_data_in_leaf': 27, 'feature_fraction': 0.7387403565626487, 'bagging_fraction': 0.8399684922918956, 'bagging_freq': 4}. Best is trial 10 with value: 30.18258143035754.\n"
     ]
    },
    {
     "name": "stdout",
     "output_type": "stream",
     "text": [
      "Early stopping, best iteration is:\n",
      "[318]\tvalid_0's l1: 33.4513\n",
      "Training until validation scores don't improve for 20 rounds\n",
      "Did not meet early stopping. Best iteration is:\n",
      "[500]\tvalid_0's l1: 26.8643\n",
      "Training until validation scores don't improve for 20 rounds\n",
      "Early stopping, best iteration is:\n",
      "[432]\tvalid_0's l1: 30.2097\n",
      "Training until validation scores don't improve for 20 rounds\n"
     ]
    },
    {
     "name": "stderr",
     "output_type": "stream",
     "text": [
      "[I 2025-07-13 00:05:31,933] Trial 11 finished with value: 30.182447956362395 and parameters: {'learning_rate': 0.009693190387888689, 'num_leaves': 20, 'min_data_in_leaf': 26, 'feature_fraction': 0.7518416973680894, 'bagging_fraction': 0.856314913269443, 'bagging_freq': 4}. Best is trial 11 with value: 30.182447956362395.\n"
     ]
    },
    {
     "name": "stdout",
     "output_type": "stream",
     "text": [
      "Early stopping, best iteration is:\n",
      "[316]\tvalid_0's l1: 33.4733\n",
      "Training until validation scores don't improve for 20 rounds\n",
      "Did not meet early stopping. Best iteration is:\n",
      "[500]\tvalid_0's l1: 26.9862\n",
      "Training until validation scores don't improve for 20 rounds\n",
      "Early stopping, best iteration is:\n",
      "[418]\tvalid_0's l1: 30.4493\n",
      "Training until validation scores don't improve for 20 rounds\n",
      "Early stopping, best iteration is:\n",
      "[359]\tvalid_0's l1: 33.3607\n"
     ]
    },
    {
     "name": "stderr",
     "output_type": "stream",
     "text": [
      "[I 2025-07-13 00:05:43,619] Trial 12 finished with value: 30.26537957352795 and parameters: {'learning_rate': 0.008898044815446204, 'num_leaves': 55, 'min_data_in_leaf': 25, 'feature_fraction': 0.7273145000499233, 'bagging_fraction': 0.8625325278733313, 'bagging_freq': 4}. Best is trial 11 with value: 30.182447956362395.\n"
     ]
    },
    {
     "name": "stdout",
     "output_type": "stream",
     "text": [
      "Training until validation scores don't improve for 20 rounds\n",
      "Did not meet early stopping. Best iteration is:\n",
      "[500]\tvalid_0's l1: 26.8181\n",
      "Training until validation scores don't improve for 20 rounds\n",
      "Early stopping, best iteration is:\n",
      "[396]\tvalid_0's l1: 30.1497\n",
      "Training until validation scores don't improve for 20 rounds\n"
     ]
    },
    {
     "name": "stderr",
     "output_type": "stream",
     "text": [
      "[I 2025-07-13 00:05:49,083] Trial 13 finished with value: 30.138926527237604 and parameters: {'learning_rate': 0.00950941907991748, 'num_leaves': 20, 'min_data_in_leaf': 28, 'feature_fraction': 0.610547233762323, 'bagging_fraction': 0.9086656573027753, 'bagging_freq': 4}. Best is trial 13 with value: 30.138926527237604.\n"
     ]
    },
    {
     "name": "stdout",
     "output_type": "stream",
     "text": [
      "Early stopping, best iteration is:\n",
      "[364]\tvalid_0's l1: 33.4489\n",
      "Training until validation scores don't improve for 20 rounds\n",
      "Did not meet early stopping. Best iteration is:\n",
      "[500]\tvalid_0's l1: 26.8761\n",
      "Training until validation scores don't improve for 20 rounds\n",
      "Early stopping, best iteration is:\n",
      "[440]\tvalid_0's l1: 30.3616\n",
      "Training until validation scores don't improve for 20 rounds\n"
     ]
    },
    {
     "name": "stderr",
     "output_type": "stream",
     "text": [
      "[I 2025-07-13 00:06:01,935] Trial 14 finished with value: 30.180023507331857 and parameters: {'learning_rate': 0.008724894758746564, 'num_leaves': 53, 'min_data_in_leaf': 29, 'feature_fraction': 0.6057282611533487, 'bagging_fraction': 0.9387984493554662, 'bagging_freq': 4}. Best is trial 13 with value: 30.138926527237604.\n"
     ]
    },
    {
     "name": "stdout",
     "output_type": "stream",
     "text": [
      "Early stopping, best iteration is:\n",
      "[353]\tvalid_0's l1: 33.3023\n",
      "Training until validation scores don't improve for 20 rounds\n",
      "Did not meet early stopping. Best iteration is:\n",
      "[500]\tvalid_0's l1: 27.1394\n",
      "Training until validation scores don't improve for 20 rounds\n",
      "Did not meet early stopping. Best iteration is:\n",
      "[488]\tvalid_0's l1: 30.425\n",
      "Training until validation scores don't improve for 20 rounds\n",
      "Early stopping, best iteration is:\n",
      "[438]\tvalid_0's l1: 33.3044\n"
     ]
    },
    {
     "name": "stderr",
     "output_type": "stream",
     "text": [
      "[I 2025-07-13 00:06:17,840] Trial 15 finished with value: 30.289613938742253 and parameters: {'learning_rate': 0.007314440229254281, 'num_leaves': 71, 'min_data_in_leaf': 31, 'feature_fraction': 0.61435157459496, 'bagging_fraction': 0.9232998207463243, 'bagging_freq': 4}. Best is trial 13 with value: 30.138926527237604.\n"
     ]
    },
    {
     "name": "stdout",
     "output_type": "stream",
     "text": [
      "Training until validation scores don't improve for 20 rounds\n",
      "Early stopping, best iteration is:\n",
      "[86]\tvalid_0's l1: 26.9857\n",
      "Training until validation scores don't improve for 20 rounds\n",
      "Early stopping, best iteration is:\n",
      "[62]\tvalid_0's l1: 30.3444\n",
      "Training until validation scores don't improve for 20 rounds\n"
     ]
    },
    {
     "name": "stderr",
     "output_type": "stream",
     "text": [
      "[I 2025-07-13 00:06:20,455] Trial 16 finished with value: 30.262745485412875 and parameters: {'learning_rate': 0.05359974062201378, 'num_leaves': 59, 'min_data_in_leaf': 44, 'feature_fraction': 0.6006863180298567, 'bagging_fraction': 0.9209221066874465, 'bagging_freq': 4}. Best is trial 13 with value: 30.138926527237604.\n"
     ]
    },
    {
     "name": "stdout",
     "output_type": "stream",
     "text": [
      "Early stopping, best iteration is:\n",
      "[54]\tvalid_0's l1: 33.4581\n",
      "Training until validation scores don't improve for 20 rounds\n",
      "Early stopping, best iteration is:\n",
      "[435]\tvalid_0's l1: 26.7917\n",
      "Training until validation scores don't improve for 20 rounds\n",
      "Early stopping, best iteration is:\n",
      "[269]\tvalid_0's l1: 30.2807\n",
      "Training until validation scores don't improve for 20 rounds\n"
     ]
    },
    {
     "name": "stderr",
     "output_type": "stream",
     "text": [
      "[I 2025-07-13 00:06:29,093] Trial 17 finished with value: 30.139260939932186 and parameters: {'learning_rate': 0.013819065642317212, 'num_leaves': 46, 'min_data_in_leaf': 22, 'feature_fraction': 0.646992349685928, 'bagging_fraction': 0.9184565403409641, 'bagging_freq': 2}. Best is trial 13 with value: 30.138926527237604.\n"
     ]
    },
    {
     "name": "stdout",
     "output_type": "stream",
     "text": [
      "Early stopping, best iteration is:\n",
      "[244]\tvalid_0's l1: 33.3455\n",
      "Training until validation scores don't improve for 20 rounds\n",
      "Early stopping, best iteration is:\n",
      "[389]\tvalid_0's l1: 26.8397\n",
      "Training until validation scores don't improve for 20 rounds\n",
      "Early stopping, best iteration is:\n",
      "[278]\tvalid_0's l1: 30.3628\n",
      "Training until validation scores don't improve for 20 rounds\n"
     ]
    },
    {
     "name": "stderr",
     "output_type": "stream",
     "text": [
      "[I 2025-07-13 00:06:37,085] Trial 18 finished with value: 30.19964059958868 and parameters: {'learning_rate': 0.013866982336250055, 'num_leaves': 46, 'min_data_in_leaf': 23, 'feature_fraction': 0.691809375948173, 'bagging_fraction': 0.7978223090725494, 'bagging_freq': 2}. Best is trial 13 with value: 30.138926527237604.\n"
     ]
    },
    {
     "name": "stdout",
     "output_type": "stream",
     "text": [
      "Early stopping, best iteration is:\n",
      "[259]\tvalid_0's l1: 33.3964\n",
      "Training until validation scores don't improve for 20 rounds\n",
      "Early stopping, best iteration is:\n",
      "[127]\tvalid_0's l1: 26.9722\n",
      "Training until validation scores don't improve for 20 rounds\n",
      "Early stopping, best iteration is:\n",
      "[83]\tvalid_0's l1: 30.5336\n",
      "Training until validation scores don't improve for 20 rounds\n"
     ]
    },
    {
     "name": "stderr",
     "output_type": "stream",
     "text": [
      "[I 2025-07-13 00:06:41,321] Trial 19 finished with value: 30.27957933087581 and parameters: {'learning_rate': 0.041439791469398794, 'num_leaves': 71, 'min_data_in_leaf': 22, 'feature_fraction': 0.6395099457680291, 'bagging_fraction': 0.892028531001955, 'bagging_freq': 3}. Best is trial 13 with value: 30.138926527237604.\n"
     ]
    },
    {
     "name": "stdout",
     "output_type": "stream",
     "text": [
      "Early stopping, best iteration is:\n",
      "[81]\tvalid_0's l1: 33.3329\n",
      "Training until validation scores don't improve for 20 rounds\n",
      "Early stopping, best iteration is:\n",
      "[62]\tvalid_0's l1: 27.0735\n",
      "Training until validation scores don't improve for 20 rounds\n",
      "Early stopping, best iteration is:\n",
      "[44]\tvalid_0's l1: 30.7248\n",
      "Training until validation scores don't improve for 20 rounds\n"
     ]
    },
    {
     "name": "stderr",
     "output_type": "stream",
     "text": [
      "[I 2025-07-13 00:06:44,839] Trial 20 finished with value: 30.432687671925596 and parameters: {'learning_rate': 0.0898446385208875, 'num_leaves': 68, 'min_data_in_leaf': 15, 'feature_fraction': 0.7099411795981051, 'bagging_fraction': 0.7747981352314053, 'bagging_freq': 2}. Best is trial 13 with value: 30.138926527237604.\n"
     ]
    },
    {
     "name": "stdout",
     "output_type": "stream",
     "text": [
      "Early stopping, best iteration is:\n",
      "[32]\tvalid_0's l1: 33.4997\n",
      "Training until validation scores don't improve for 20 rounds\n",
      "Did not meet early stopping. Best iteration is:\n",
      "[500]\tvalid_0's l1: 27.1116\n",
      "Training until validation scores don't improve for 20 rounds\n",
      "Did not meet early stopping. Best iteration is:\n",
      "[500]\tvalid_0's l1: 30.3426\n",
      "Training until validation scores don't improve for 20 rounds\n",
      "Early stopping, best iteration is:\n",
      "[438]\tvalid_0's l1: 33.315\n"
     ]
    },
    {
     "name": "stderr",
     "output_type": "stream",
     "text": [
      "[I 2025-07-13 00:07:01,966] Trial 21 finished with value: 30.256394415660733 and parameters: {'learning_rate': 0.0072547284544569445, 'num_leaves': 49, 'min_data_in_leaf': 30, 'feature_fraction': 0.6185768592194887, 'bagging_fraction': 0.9553579629489579, 'bagging_freq': 4}. Best is trial 13 with value: 30.138926527237604.\n"
     ]
    },
    {
     "name": "stdout",
     "output_type": "stream",
     "text": [
      "Training until validation scores don't improve for 20 rounds\n",
      "Did not meet early stopping. Best iteration is:\n",
      "[487]\tvalid_0's l1: 26.8661\n",
      "Training until validation scores don't improve for 20 rounds\n",
      "Early stopping, best iteration is:\n",
      "[337]\tvalid_0's l1: 30.4084\n",
      "Training until validation scores don't improve for 20 rounds\n",
      "Early stopping, best iteration is:\n",
      "[287]\tvalid_0's l1: 33.3357\n"
     ]
    },
    {
     "name": "stderr",
     "output_type": "stream",
     "text": [
      "[I 2025-07-13 00:07:11,470] Trial 22 finished with value: 30.203363337325943 and parameters: {'learning_rate': 0.01157485376949214, 'num_leaves': 49, 'min_data_in_leaf': 29, 'feature_fraction': 0.6536911382095493, 'bagging_fraction': 0.9331909805194535, 'bagging_freq': 5}. Best is trial 13 with value: 30.138926527237604.\n"
     ]
    },
    {
     "name": "stdout",
     "output_type": "stream",
     "text": [
      "Training until validation scores don't improve for 20 rounds\n",
      "Did not meet early stopping. Best iteration is:\n",
      "[500]\tvalid_0's l1: 26.9326\n",
      "Training until validation scores don't improve for 20 rounds\n",
      "Early stopping, best iteration is:\n",
      "[422]\tvalid_0's l1: 30.4301\n",
      "Training until validation scores don't improve for 20 rounds\n",
      "Early stopping, best iteration is:\n",
      "[382]\tvalid_0's l1: 33.284\n"
     ]
    },
    {
     "name": "stderr",
     "output_type": "stream",
     "text": [
      "[I 2025-07-13 00:07:25,163] Trial 23 finished with value: 30.215569830114713 and parameters: {'learning_rate': 0.008037523615344645, 'num_leaves': 61, 'min_data_in_leaf': 33, 'feature_fraction': 0.6015623189468308, 'bagging_fraction': 0.892463539615591, 'bagging_freq': 3}. Best is trial 13 with value: 30.138926527237604.\n"
     ]
    },
    {
     "name": "stdout",
     "output_type": "stream",
     "text": [
      "Training until validation scores don't improve for 20 rounds\n",
      "Early stopping, best iteration is:\n",
      "[378]\tvalid_0's l1: 26.7487\n",
      "Training until validation scores don't improve for 20 rounds\n",
      "Early stopping, best iteration is:\n",
      "[243]\tvalid_0's l1: 30.3527\n",
      "Training until validation scores don't improve for 20 rounds\n"
     ]
    },
    {
     "name": "stderr",
     "output_type": "stream",
     "text": [
      "[I 2025-07-13 00:07:32,481] Trial 24 finished with value: 30.132228687389198 and parameters: {'learning_rate': 0.015938977023042405, 'num_leaves': 40, 'min_data_in_leaf': 22, 'feature_fraction': 0.6344780386238291, 'bagging_fraction': 0.9995306520244368, 'bagging_freq': 1}. Best is trial 24 with value: 30.132228687389198.\n"
     ]
    },
    {
     "name": "stdout",
     "output_type": "stream",
     "text": [
      "Early stopping, best iteration is:\n",
      "[204]\tvalid_0's l1: 33.2953\n",
      "Training until validation scores don't improve for 20 rounds\n",
      "Early stopping, best iteration is:\n",
      "[374]\tvalid_0's l1: 26.8462\n",
      "Training until validation scores don't improve for 20 rounds\n",
      "Early stopping, best iteration is:\n",
      "[245]\tvalid_0's l1: 30.2912\n",
      "Training until validation scores don't improve for 20 rounds\n"
     ]
    },
    {
     "name": "stderr",
     "output_type": "stream",
     "text": [
      "[I 2025-07-13 00:07:39,786] Trial 25 finished with value: 30.145299151696605 and parameters: {'learning_rate': 0.01626802250744802, 'num_leaves': 40, 'min_data_in_leaf': 21, 'feature_fraction': 0.6395732281523604, 'bagging_fraction': 0.9996885922039633, 'bagging_freq': 1}. Best is trial 24 with value: 30.132228687389198.\n"
     ]
    },
    {
     "name": "stdout",
     "output_type": "stream",
     "text": [
      "Early stopping, best iteration is:\n",
      "[201]\tvalid_0's l1: 33.2985\n",
      "Training until validation scores don't improve for 20 rounds\n",
      "Early stopping, best iteration is:\n",
      "[292]\tvalid_0's l1: 26.8384\n",
      "Training until validation scores don't improve for 20 rounds\n",
      "Early stopping, best iteration is:\n",
      "[161]\tvalid_0's l1: 30.2883\n",
      "Training until validation scores don't improve for 20 rounds\n"
     ]
    },
    {
     "name": "stderr",
     "output_type": "stream",
     "text": [
      "[I 2025-07-13 00:07:43,237] Trial 26 finished with value: 30.17554352315986 and parameters: {'learning_rate': 0.022769572890776017, 'num_leaves': 29, 'min_data_in_leaf': 24, 'feature_fraction': 0.6995779135100955, 'bagging_fraction': 0.8927667771131523, 'bagging_freq': 1}. Best is trial 24 with value: 30.132228687389198.\n"
     ]
    },
    {
     "name": "stdout",
     "output_type": "stream",
     "text": [
      "Early stopping, best iteration is:\n",
      "[147]\tvalid_0's l1: 33.3999\n",
      "Training until validation scores don't improve for 20 rounds\n",
      "Did not meet early stopping. Best iteration is:\n",
      "[500]\tvalid_0's l1: 26.7361\n",
      "Training until validation scores don't improve for 20 rounds\n",
      "Early stopping, best iteration is:\n",
      "[313]\tvalid_0's l1: 30.21\n",
      "Training until validation scores don't improve for 20 rounds\n"
     ]
    },
    {
     "name": "stderr",
     "output_type": "stream",
     "text": [
      "[I 2025-07-13 00:07:51,178] Trial 27 finished with value: 30.089266983011765 and parameters: {'learning_rate': 0.013032835642198108, 'num_leaves': 30, 'min_data_in_leaf': 19, 'feature_fraction': 0.6460463562622947, 'bagging_fraction': 0.9600075008404457, 'bagging_freq': 2}. Best is trial 27 with value: 30.089266983011765.\n"
     ]
    },
    {
     "name": "stdout",
     "output_type": "stream",
     "text": [
      "Early stopping, best iteration is:\n",
      "[259]\tvalid_0's l1: 33.3217\n",
      "Training until validation scores don't improve for 20 rounds\n",
      "Early stopping, best iteration is:\n",
      "[322]\tvalid_0's l1: 26.8478\n",
      "Training until validation scores don't improve for 20 rounds\n",
      "Early stopping, best iteration is:\n",
      "[251]\tvalid_0's l1: 30.2824\n",
      "Training until validation scores don't improve for 20 rounds\n"
     ]
    },
    {
     "name": "stderr",
     "output_type": "stream",
     "text": [
      "[I 2025-07-13 00:07:55,650] Trial 28 finished with value: 30.19819652268806 and parameters: {'learning_rate': 0.01906496566994292, 'num_leaves': 26, 'min_data_in_leaf': 18, 'feature_fraction': 0.7993599823182003, 'bagging_fraction': 0.9618565820657965, 'bagging_freq': 1}. Best is trial 27 with value: 30.089266983011765.\n"
     ]
    },
    {
     "name": "stdout",
     "output_type": "stream",
     "text": [
      "Early stopping, best iteration is:\n",
      "[178]\tvalid_0's l1: 33.4644\n",
      "Training until validation scores don't improve for 20 rounds\n",
      "Early stopping, best iteration is:\n",
      "[406]\tvalid_0's l1: 26.7356\n",
      "Training until validation scores don't improve for 20 rounds\n",
      "Early stopping, best iteration is:\n",
      "[250]\tvalid_0's l1: 30.1567\n",
      "Training until validation scores don't improve for 20 rounds\n"
     ]
    },
    {
     "name": "stderr",
     "output_type": "stream",
     "text": [
      "[I 2025-07-13 00:08:00,239] Trial 29 finished with value: 30.09345828446814 and parameters: {'learning_rate': 0.016057353558622398, 'num_leaves': 25, 'min_data_in_leaf': 15, 'feature_fraction': 0.6715161908859748, 'bagging_fraction': 0.9604597210982896, 'bagging_freq': 1}. Best is trial 27 with value: 30.089266983011765.\n"
     ]
    },
    {
     "name": "stdout",
     "output_type": "stream",
     "text": [
      "Early stopping, best iteration is:\n",
      "[209]\tvalid_0's l1: 33.388\n",
      "LGBM best params: {'learning_rate': 0.013032835642198108, 'num_leaves': 30, 'min_data_in_leaf': 19, 'feature_fraction': 0.6460463562622947, 'bagging_fraction': 0.9600075008404457, 'bagging_freq': 2}\n",
      "LGBM best CV MAE: 30.089266983011765\n"
     ]
    }
   ],
   "source": [
    "# 2. Optimize LightGBM via Optuna\n",
    "def objective(trial):\n",
    "    # Suggest hyperparameters\n",
    "    params = {\n",
    "        'objective': 'regression',\n",
    "        'metric': 'l1',\n",
    "        'verbosity': -1,\n",
    "        'boosting_type': 'gbdt',\n",
    "        'random_state': RANDOM_STATE,\n",
    "        'learning_rate': trial.suggest_float('learning_rate', 0.005, 0.1, log=True),\n",
    "        'num_leaves': trial.suggest_int('num_leaves', 20, 100),\n",
    "        'min_data_in_leaf': trial.suggest_int('min_data_in_leaf', 10, 50),\n",
    "        'feature_fraction': trial.suggest_float('feature_fraction', 0.6, 1.0),\n",
    "        'bagging_fraction': trial.suggest_float('bagging_fraction', 0.6, 1.0),\n",
    "        'bagging_freq': trial.suggest_int('bagging_freq', 1, 5)\n",
    "    }\n",
    "\n",
    "    cv_maes = []\n",
    "    # Grouped CV to respect engine independence\n",
    "    for train_idx, valid_idx in GroupKFold(n_splits=3).split(X_train, y_train, groups):\n",
    "        dtrain = lgb.Dataset(X_train.iloc[train_idx], label=y_train.iloc[train_idx])\n",
    "        dvalid = lgb.Dataset(X_train.iloc[valid_idx], label=y_train.iloc[valid_idx])\n",
    "        # Train with early stopping to avoid overfitting\n",
    "        gbm = lgb.train(\n",
    "            params,\n",
    "            dtrain,\n",
    "            num_boost_round=500,\n",
    "            valid_sets=[dvalid],\n",
    "            callbacks=[lgb.early_stopping(stopping_rounds=20)]\n",
    "        )\n",
    "        preds = gbm.predict(X_train.iloc[valid_idx], num_iteration=gbm.best_iteration)\n",
    "        cv_maes.append(mean_absolute_error(y_train.iloc[valid_idx], preds))\n",
    "\n",
    "    # Return average MAE across folds\n",
    "    return sum(cv_maes) / len(cv_maes)\n",
    "\n",
    "# Run optimization\n",
    "study = optuna.create_study(direction='minimize', sampler=optuna.samplers.TPESampler(seed=RANDOM_STATE))\n",
    "study.optimize(objective, n_trials=30)\n",
    "\n",
    "print(\"LGBM best params:\", study.best_params)\n",
    "print(\"LGBM best CV MAE:\", study.best_value)"
   ]
  },
  {
   "cell_type": "markdown",
   "id": "3211b7c5-dc2e-483f-ac1c-924c7359877b",
   "metadata": {},
   "source": [
    "- **Best CV MAE**: 30.09  \n",
    "  (improvement vs. default LGBM ≃30.28 and RF ≃30.15)\n",
    "- **Optimal hyperparameters**:\n",
    "  - learning_rate ≃0.013  \n",
    "  - num_leaves = 30  \n",
    "  - min_data_in_leaf = 19  \n",
    "  - feature_fraction ≃0.65  \n",
    "  - bagging_fraction ≃0.96  \n",
    "  - bagging_freq = 2  \n",
    "\n",
    "These settings balance model complexity (moderate tree size) and regularization (subsampling), yielding the lowest CV error.  "
   ]
  },
  {
   "cell_type": "markdown",
   "id": "9358d2b2-23dd-4007-a3e6-632ba0f0ea2c",
   "metadata": {},
   "source": [
    "## 7. Final Training and Evaluation\n",
    "\n",
    "We observed that using 429 trees led to worse test performance (MAE↑).  \n",
    "We revert to a fixed, moderate number of trees (`n_estimators=100`) and rely on our tuned hyperparameters to balance bias and variance.\n"
   ]
  },
  {
   "cell_type": "code",
   "execution_count": 8,
   "id": "a7bddade-4379-4bf4-ab30-16c8a9a05e54",
   "metadata": {
    "scrolled": true
   },
   "outputs": [
    {
     "name": "stderr",
     "output_type": "stream",
     "text": [
      "C:\\Users\\laptop 1\\anaconda3\\Lib\\site-packages\\sklearn\\metrics\\_regression.py:492: FutureWarning: 'squared' is deprecated in version 1.4 and will be removed in 1.6. To calculate the root mean squared error, use the function'root_mean_squared_error'.\n",
      "  warnings.warn(\n"
     ]
    },
    {
     "name": "stdout",
     "output_type": "stream",
     "text": [
      "Test MAE:  24.128\n",
      "Test RMSE: 28.635\n"
     ]
    },
    {
     "data": {
      "image/png": "[encoded data removed]",
      "text/plain": [
       "<Figure size 640x480 with 1 Axes>"
      ]
     },
     "metadata": {},
     "output_type": "display_data"
    }
   ],
   "source": [
    "from lightgbm import LGBMRegressor\n",
    "\n",
    "# 1) Instantiate final LightGBM with best Optuna parameters and fixed n_estimators\n",
    "final_lgb = LGBMRegressor(\n",
    "    objective='regression',\n",
    "    metric='l1',\n",
    "    boosting_type='gbdt',\n",
    "    random_state=RANDOM_STATE,\n",
    "    n_estimators=100,            # fixed to avoid overfitting\n",
    "    **study.best_params\n",
    ")\n",
    "\n",
    "# 2) Fit on full training data\n",
    "final_lgb.fit(X_train, y_train)\n",
    "\n",
    "# 3) Evaluate on test set\n",
    "y_pred = final_lgb.predict(X_test)\n",
    "test_mae  = mean_absolute_error(y_test,  y_pred)\n",
    "test_rmse = mean_squared_error(y_test, y_pred, squared=False)\n",
    "print(f\"Test MAE:  {test_mae:.3f}\")\n",
    "print(f\"Test RMSE: {test_rmse:.3f}\")\n",
    "\n",
    "# 4) Learning curve to check bias vs. variance\n",
    "cv = GroupKFold(n_splits=3)\n",
    "train_sizes, train_scores, valid_scores = learning_curve(\n",
    "    final_lgb,\n",
    "    X_train, y_train,\n",
    "    groups=groups,\n",
    "    cv=cv,\n",
    "    scoring='neg_mean_absolute_error',\n",
    "    train_sizes=np.linspace(0.1, 1.0, 5),\n",
    "    n_jobs=-1\n",
    ")\n",
    "\n",
    "train_mae = -train_scores.mean(axis=1)\n",
    "valid_mae = -valid_scores.mean(axis=1)\n",
    "\n",
    "plt.figure()\n",
    "plt.plot(train_sizes, train_mae, marker='o', label='Train MAE')\n",
    "plt.plot(train_sizes, valid_mae, marker='o', label='CV MAE')\n",
    "plt.xlabel('Training set size')\n",
    "plt.ylabel('MAE')\n",
    "plt.title('Learning Curve')\n",
    "plt.legend()\n",
    "plt.show()\n",
    "\n"
   ]
  },
  {
   "cell_type": "markdown",
   "id": "74069a0b-fd7e-465b-8ab1-03ea91320c92",
   "metadata": {},
   "source": [
    "- Test set (100 engines)  \n",
    "  - MAE: 24.13  \n",
    "  - RMSE: 28.64  \n",
    "---------------------\n",
    "  - Test MAE is substantially lower than our cross-validation MAE (~30.1), indicating strong generalization.  \n",
    "  - The learning curve shows train MAE rising to ~31 and CV MAE plateauing around ~34 as data grows, which points to moderate bias rather than overfitting.  \n",
    "  - Overall performance and learning-curve behavior validate this LightGBM model for deployment."
   ]
  },
  {
   "cell_type": "markdown",
   "id": "0654548f-cd8f-423a-8b5a-5874257726d8",
   "metadata": {},
   "source": [
    "## Save Final Model"
   ]
  },
  {
   "cell_type": "code",
   "execution_count": 9,
   "id": "682f97ee-784a-4961-850e-ba2a7866a646",
   "metadata": {},
   "outputs": [
    {
     "data": {
      "text/plain": [
       "['../models/final_lgb.joblib']"
      ]
     },
     "execution_count": 9,
     "metadata": {},
     "output_type": "execute_result"
    }
   ],
   "source": [
    "# Save the final model for deployment\n",
    "dump(final_lgb, '../models/final_lgb.joblib')"
   ]
  },
  {
   "cell_type": "markdown",
   "id": "47fa1e98-7b1f-4cd8-89a4-37f3d7d75aec",
   "metadata": {},
   "source": [
    "## Summary\n",
    "\n",
    "- **Data:**  \n",
    "  - Train: 20 631 samples × 28 features  \n",
    "  - Test: 100 samples × 28 features\n",
    "\n",
    "- **CV & Metrics:**  \n",
    "  - 5-fold GroupKFold by engine  \n",
    "  - MAE & RMSE\n",
    "\n",
    "- **Baselines:**  \n",
    "  - Ridge (best linear): MAE 33.87, RMSE 44.24  \n",
    "  - Ensembles improve MAE by ~3.7:  \n",
    "    - RandomForest: MAE 30.12, RMSE 42.88  \n",
    "    - LightGBM default: MAE 30.28, RMSE 42.90\n",
    "\n",
    "- **Tuning:**  \n",
    "  - RF (RandomizedSearchCV): MAE ≃ 30.15 (n_estimators=137, max_depth=10)  \n",
    "  - LightGBM (Optuna + early stopping):  \n",
    "    ```\n",
    "    learning_rate ~ 0.013, num_leaves 30, min_data_in_leaf 19,\n",
    "    feature_fraction 0.65, bagging_fraction 0.96, bagging_freq 2\n",
    "    ```\n",
    "    → CV MAE 30.09\n",
    "\n",
    "- **Final Model:**  \n",
    "  - LightGBM trained on full data with tuned params  \n",
    "  - **Test:** MAE 24.13, RMSE 28.64  \n",
    "  - Learning curve shows stable CV vs. train gap → moderate bias, no overfit"
   ]
  }
 ],
 "metadata": {
  "kernelspec": {
   "display_name": "Python [conda env:base] *",
   "language": "python",
   "name": "conda-base-py"
  },
  "language_info": {
   "codemirror_mode": {
    "name": "ipython",
    "version": 3
   },
   "file_extension": ".py",
   "mimetype": "text/x-python",
   "name": "python",
   "nbconvert_exporter": "python",
   "pygments_lexer": "ipython3",
   "version": "3.12.7"
  }
 },
 "nbformat": 4,
 "nbformat_minor": 5
}
